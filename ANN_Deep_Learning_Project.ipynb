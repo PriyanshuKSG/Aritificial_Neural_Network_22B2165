{
  "nbformat": 4,
  "nbformat_minor": 0,
  "metadata": {
    "colab": {
      "provenance": [],
      "mount_file_id": "1qqJkeMBnOC2NCAhnKxCgAyvyD01kjwNe",
      "authorship_tag": "ABX9TyNeynqj5KxQbnz72YxoNDBL",
      "include_colab_link": true
    },
    "kernelspec": {
      "name": "python3",
      "display_name": "Python 3"
    },
    "language_info": {
      "name": "python"
    }
  },
  "cells": [
    {
      "cell_type": "markdown",
      "metadata": {
        "id": "view-in-github",
        "colab_type": "text"
      },
      "source": [
        "<a href=\"https://colab.research.google.com/github/PriyanshuKSG/Aritificial_Neural_Network_22B2165/blob/main/ANN_Deep_Learning_Project.ipynb\" target=\"_parent\"><img src=\"https://colab.research.google.com/assets/colab-badge.svg\" alt=\"Open In Colab\"/></a>"
      ]
    },
    {
      "cell_type": "markdown",
      "source": [
        "<b>Name: Priyanshu Sivamurthy Gangavati</b><br>\n",
        "<b>Roll number: 22B2165</b><br>\n",
        "<b>College: IIT Bombay</b>"
      ],
      "metadata": {
        "id": "t6Cc1JZkNo3J"
      }
    },
    {
      "cell_type": "markdown",
      "source": [
        "<h3>Dataset link: <a href=\"https://archive.ics.uci.edu/dataset/332/online+news+popularity\">Click here for dataset</a></h3>"
      ],
      "metadata": {
        "id": "UkZfSkw7586o"
      }
    },
    {
      "cell_type": "markdown",
      "source": [
        "<h1><b><U>PROJECT GOALS</U></b></h1>\n",
        "<ul>\n",
        "<li><h3>Implementing Neural Network from scratch</h3></li>\n",
        "<li><h3>TensorFlow implementation</h3></li>\n",
        "<li><h3>Model Comparson</h3</li>\n",
        "</ul>"
      ],
      "metadata": {
        "id": "WsU-3oknN6ui"
      }
    },
    {
      "cell_type": "markdown",
      "source": [
        "<h2><b><u>DATA LOADING</u></b></h2>\n",
        "<h3>Let's load and have a look at our data. This will help us understand our data.</h3>\n",
        "<h3>Aim of this dataset: To predict number of shares</h3>"
      ],
      "metadata": {
        "id": "1clcr1SGRGuR"
      }
    },
    {
      "cell_type": "code",
      "source": [
        "import pandas as pd\n",
        "import numpy as np\n",
        "from matplotlib import pyplot as plt\n"
      ],
      "metadata": {
        "id": "-FWrldpEQpn7"
      },
      "execution_count": null,
      "outputs": []
    },
    {
      "cell_type": "code",
      "execution_count": null,
      "metadata": {
        "id": "D8QUvlwpNifr"
      },
      "outputs": [],
      "source": [
        "data_path = \"/content/drive/MyDrive/OnlineNewsPopularity.csv\"\n",
        "df = pd.read_csv(data_path)"
      ]
    },
    {
      "cell_type": "code",
      "source": [
        "df.head()"
      ],
      "metadata": {
        "id": "H4m_1P_BQl43",
        "colab": {
          "base_uri": "https://localhost:8080/",
          "height": 342
        },
        "outputId": "65270466-4174-4d02-c537-35eac72161f2"
      },
      "execution_count": null,
      "outputs": [
        {
          "output_type": "execute_result",
          "data": {
            "text/plain": [
              "                                                 url   timedelta  \\\n",
              "0  http://mashable.com/2013/01/07/amazon-instant-...       731.0   \n",
              "1  http://mashable.com/2013/01/07/ap-samsung-spon...       731.0   \n",
              "2  http://mashable.com/2013/01/07/apple-40-billio...       731.0   \n",
              "3  http://mashable.com/2013/01/07/astronaut-notre...       731.0   \n",
              "4   http://mashable.com/2013/01/07/att-u-verse-apps/       731.0   \n",
              "\n",
              "    n_tokens_title   n_tokens_content   n_unique_tokens   n_non_stop_words  \\\n",
              "0             12.0              219.0          0.663594                1.0   \n",
              "1              9.0              255.0          0.604743                1.0   \n",
              "2              9.0              211.0          0.575130                1.0   \n",
              "3              9.0              531.0          0.503788                1.0   \n",
              "4             13.0             1072.0          0.415646                1.0   \n",
              "\n",
              "    n_non_stop_unique_tokens   num_hrefs   num_self_hrefs   num_imgs  ...  \\\n",
              "0                   0.815385         4.0              2.0        1.0  ...   \n",
              "1                   0.791946         3.0              1.0        1.0  ...   \n",
              "2                   0.663866         3.0              1.0        1.0  ...   \n",
              "3                   0.665635         9.0              0.0        1.0  ...   \n",
              "4                   0.540890        19.0             19.0       20.0  ...   \n",
              "\n",
              "    min_positive_polarity   max_positive_polarity   avg_negative_polarity  \\\n",
              "0                0.100000                     0.7               -0.350000   \n",
              "1                0.033333                     0.7               -0.118750   \n",
              "2                0.100000                     1.0               -0.466667   \n",
              "3                0.136364                     0.8               -0.369697   \n",
              "4                0.033333                     1.0               -0.220192   \n",
              "\n",
              "    min_negative_polarity   max_negative_polarity   title_subjectivity  \\\n",
              "0                  -0.600               -0.200000             0.500000   \n",
              "1                  -0.125               -0.100000             0.000000   \n",
              "2                  -0.800               -0.133333             0.000000   \n",
              "3                  -0.600               -0.166667             0.000000   \n",
              "4                  -0.500               -0.050000             0.454545   \n",
              "\n",
              "    title_sentiment_polarity   abs_title_subjectivity  \\\n",
              "0                  -0.187500                 0.000000   \n",
              "1                   0.000000                 0.500000   \n",
              "2                   0.000000                 0.500000   \n",
              "3                   0.000000                 0.500000   \n",
              "4                   0.136364                 0.045455   \n",
              "\n",
              "    abs_title_sentiment_polarity   shares  \n",
              "0                       0.187500      593  \n",
              "1                       0.000000      711  \n",
              "2                       0.000000     1500  \n",
              "3                       0.000000     1200  \n",
              "4                       0.136364      505  \n",
              "\n",
              "[5 rows x 61 columns]"
            ],
            "text/html": [
              "\n",
              "  <div id=\"df-030dfcd5-270f-4e09-9dc6-8f19155246d5\" class=\"colab-df-container\">\n",
              "    <div>\n",
              "<style scoped>\n",
              "    .dataframe tbody tr th:only-of-type {\n",
              "        vertical-align: middle;\n",
              "    }\n",
              "\n",
              "    .dataframe tbody tr th {\n",
              "        vertical-align: top;\n",
              "    }\n",
              "\n",
              "    .dataframe thead th {\n",
              "        text-align: right;\n",
              "    }\n",
              "</style>\n",
              "<table border=\"1\" class=\"dataframe\">\n",
              "  <thead>\n",
              "    <tr style=\"text-align: right;\">\n",
              "      <th></th>\n",
              "      <th>url</th>\n",
              "      <th>timedelta</th>\n",
              "      <th>n_tokens_title</th>\n",
              "      <th>n_tokens_content</th>\n",
              "      <th>n_unique_tokens</th>\n",
              "      <th>n_non_stop_words</th>\n",
              "      <th>n_non_stop_unique_tokens</th>\n",
              "      <th>num_hrefs</th>\n",
              "      <th>num_self_hrefs</th>\n",
              "      <th>num_imgs</th>\n",
              "      <th>...</th>\n",
              "      <th>min_positive_polarity</th>\n",
              "      <th>max_positive_polarity</th>\n",
              "      <th>avg_negative_polarity</th>\n",
              "      <th>min_negative_polarity</th>\n",
              "      <th>max_negative_polarity</th>\n",
              "      <th>title_subjectivity</th>\n",
              "      <th>title_sentiment_polarity</th>\n",
              "      <th>abs_title_subjectivity</th>\n",
              "      <th>abs_title_sentiment_polarity</th>\n",
              "      <th>shares</th>\n",
              "    </tr>\n",
              "  </thead>\n",
              "  <tbody>\n",
              "    <tr>\n",
              "      <th>0</th>\n",
              "      <td>http://mashable.com/2013/01/07/amazon-instant-...</td>\n",
              "      <td>731.0</td>\n",
              "      <td>12.0</td>\n",
              "      <td>219.0</td>\n",
              "      <td>0.663594</td>\n",
              "      <td>1.0</td>\n",
              "      <td>0.815385</td>\n",
              "      <td>4.0</td>\n",
              "      <td>2.0</td>\n",
              "      <td>1.0</td>\n",
              "      <td>...</td>\n",
              "      <td>0.100000</td>\n",
              "      <td>0.7</td>\n",
              "      <td>-0.350000</td>\n",
              "      <td>-0.600</td>\n",
              "      <td>-0.200000</td>\n",
              "      <td>0.500000</td>\n",
              "      <td>-0.187500</td>\n",
              "      <td>0.000000</td>\n",
              "      <td>0.187500</td>\n",
              "      <td>593</td>\n",
              "    </tr>\n",
              "    <tr>\n",
              "      <th>1</th>\n",
              "      <td>http://mashable.com/2013/01/07/ap-samsung-spon...</td>\n",
              "      <td>731.0</td>\n",
              "      <td>9.0</td>\n",
              "      <td>255.0</td>\n",
              "      <td>0.604743</td>\n",
              "      <td>1.0</td>\n",
              "      <td>0.791946</td>\n",
              "      <td>3.0</td>\n",
              "      <td>1.0</td>\n",
              "      <td>1.0</td>\n",
              "      <td>...</td>\n",
              "      <td>0.033333</td>\n",
              "      <td>0.7</td>\n",
              "      <td>-0.118750</td>\n",
              "      <td>-0.125</td>\n",
              "      <td>-0.100000</td>\n",
              "      <td>0.000000</td>\n",
              "      <td>0.000000</td>\n",
              "      <td>0.500000</td>\n",
              "      <td>0.000000</td>\n",
              "      <td>711</td>\n",
              "    </tr>\n",
              "    <tr>\n",
              "      <th>2</th>\n",
              "      <td>http://mashable.com/2013/01/07/apple-40-billio...</td>\n",
              "      <td>731.0</td>\n",
              "      <td>9.0</td>\n",
              "      <td>211.0</td>\n",
              "      <td>0.575130</td>\n",
              "      <td>1.0</td>\n",
              "      <td>0.663866</td>\n",
              "      <td>3.0</td>\n",
              "      <td>1.0</td>\n",
              "      <td>1.0</td>\n",
              "      <td>...</td>\n",
              "      <td>0.100000</td>\n",
              "      <td>1.0</td>\n",
              "      <td>-0.466667</td>\n",
              "      <td>-0.800</td>\n",
              "      <td>-0.133333</td>\n",
              "      <td>0.000000</td>\n",
              "      <td>0.000000</td>\n",
              "      <td>0.500000</td>\n",
              "      <td>0.000000</td>\n",
              "      <td>1500</td>\n",
              "    </tr>\n",
              "    <tr>\n",
              "      <th>3</th>\n",
              "      <td>http://mashable.com/2013/01/07/astronaut-notre...</td>\n",
              "      <td>731.0</td>\n",
              "      <td>9.0</td>\n",
              "      <td>531.0</td>\n",
              "      <td>0.503788</td>\n",
              "      <td>1.0</td>\n",
              "      <td>0.665635</td>\n",
              "      <td>9.0</td>\n",
              "      <td>0.0</td>\n",
              "      <td>1.0</td>\n",
              "      <td>...</td>\n",
              "      <td>0.136364</td>\n",
              "      <td>0.8</td>\n",
              "      <td>-0.369697</td>\n",
              "      <td>-0.600</td>\n",
              "      <td>-0.166667</td>\n",
              "      <td>0.000000</td>\n",
              "      <td>0.000000</td>\n",
              "      <td>0.500000</td>\n",
              "      <td>0.000000</td>\n",
              "      <td>1200</td>\n",
              "    </tr>\n",
              "    <tr>\n",
              "      <th>4</th>\n",
              "      <td>http://mashable.com/2013/01/07/att-u-verse-apps/</td>\n",
              "      <td>731.0</td>\n",
              "      <td>13.0</td>\n",
              "      <td>1072.0</td>\n",
              "      <td>0.415646</td>\n",
              "      <td>1.0</td>\n",
              "      <td>0.540890</td>\n",
              "      <td>19.0</td>\n",
              "      <td>19.0</td>\n",
              "      <td>20.0</td>\n",
              "      <td>...</td>\n",
              "      <td>0.033333</td>\n",
              "      <td>1.0</td>\n",
              "      <td>-0.220192</td>\n",
              "      <td>-0.500</td>\n",
              "      <td>-0.050000</td>\n",
              "      <td>0.454545</td>\n",
              "      <td>0.136364</td>\n",
              "      <td>0.045455</td>\n",
              "      <td>0.136364</td>\n",
              "      <td>505</td>\n",
              "    </tr>\n",
              "  </tbody>\n",
              "</table>\n",
              "<p>5 rows × 61 columns</p>\n",
              "</div>\n",
              "    <div class=\"colab-df-buttons\">\n",
              "\n",
              "  <div class=\"colab-df-container\">\n",
              "    <button class=\"colab-df-convert\" onclick=\"convertToInteractive('df-030dfcd5-270f-4e09-9dc6-8f19155246d5')\"\n",
              "            title=\"Convert this dataframe to an interactive table.\"\n",
              "            style=\"display:none;\">\n",
              "\n",
              "  <svg xmlns=\"http://www.w3.org/2000/svg\" height=\"24px\" viewBox=\"0 -960 960 960\">\n",
              "    <path d=\"M120-120v-720h720v720H120Zm60-500h600v-160H180v160Zm220 220h160v-160H400v160Zm0 220h160v-160H400v160ZM180-400h160v-160H180v160Zm440 0h160v-160H620v160ZM180-180h160v-160H180v160Zm440 0h160v-160H620v160Z\"/>\n",
              "  </svg>\n",
              "    </button>\n",
              "\n",
              "  <style>\n",
              "    .colab-df-container {\n",
              "      display:flex;\n",
              "      gap: 12px;\n",
              "    }\n",
              "\n",
              "    .colab-df-convert {\n",
              "      background-color: #E8F0FE;\n",
              "      border: none;\n",
              "      border-radius: 50%;\n",
              "      cursor: pointer;\n",
              "      display: none;\n",
              "      fill: #1967D2;\n",
              "      height: 32px;\n",
              "      padding: 0 0 0 0;\n",
              "      width: 32px;\n",
              "    }\n",
              "\n",
              "    .colab-df-convert:hover {\n",
              "      background-color: #E2EBFA;\n",
              "      box-shadow: 0px 1px 2px rgba(60, 64, 67, 0.3), 0px 1px 3px 1px rgba(60, 64, 67, 0.15);\n",
              "      fill: #174EA6;\n",
              "    }\n",
              "\n",
              "    .colab-df-buttons div {\n",
              "      margin-bottom: 4px;\n",
              "    }\n",
              "\n",
              "    [theme=dark] .colab-df-convert {\n",
              "      background-color: #3B4455;\n",
              "      fill: #D2E3FC;\n",
              "    }\n",
              "\n",
              "    [theme=dark] .colab-df-convert:hover {\n",
              "      background-color: #434B5C;\n",
              "      box-shadow: 0px 1px 3px 1px rgba(0, 0, 0, 0.15);\n",
              "      filter: drop-shadow(0px 1px 2px rgba(0, 0, 0, 0.3));\n",
              "      fill: #FFFFFF;\n",
              "    }\n",
              "  </style>\n",
              "\n",
              "    <script>\n",
              "      const buttonEl =\n",
              "        document.querySelector('#df-030dfcd5-270f-4e09-9dc6-8f19155246d5 button.colab-df-convert');\n",
              "      buttonEl.style.display =\n",
              "        google.colab.kernel.accessAllowed ? 'block' : 'none';\n",
              "\n",
              "      async function convertToInteractive(key) {\n",
              "        const element = document.querySelector('#df-030dfcd5-270f-4e09-9dc6-8f19155246d5');\n",
              "        const dataTable =\n",
              "          await google.colab.kernel.invokeFunction('convertToInteractive',\n",
              "                                                    [key], {});\n",
              "        if (!dataTable) return;\n",
              "\n",
              "        const docLinkHtml = 'Like what you see? Visit the ' +\n",
              "          '<a target=\"_blank\" href=https://colab.research.google.com/notebooks/data_table.ipynb>data table notebook</a>'\n",
              "          + ' to learn more about interactive tables.';\n",
              "        element.innerHTML = '';\n",
              "        dataTable['output_type'] = 'display_data';\n",
              "        await google.colab.output.renderOutput(dataTable, element);\n",
              "        const docLink = document.createElement('div');\n",
              "        docLink.innerHTML = docLinkHtml;\n",
              "        element.appendChild(docLink);\n",
              "      }\n",
              "    </script>\n",
              "  </div>\n",
              "\n",
              "\n",
              "<div id=\"df-7adc04ab-c634-434b-bdfa-944627e57351\">\n",
              "  <button class=\"colab-df-quickchart\" onclick=\"quickchart('df-7adc04ab-c634-434b-bdfa-944627e57351')\"\n",
              "            title=\"Suggest charts\"\n",
              "            style=\"display:none;\">\n",
              "\n",
              "<svg xmlns=\"http://www.w3.org/2000/svg\" height=\"24px\"viewBox=\"0 0 24 24\"\n",
              "     width=\"24px\">\n",
              "    <g>\n",
              "        <path d=\"M19 3H5c-1.1 0-2 .9-2 2v14c0 1.1.9 2 2 2h14c1.1 0 2-.9 2-2V5c0-1.1-.9-2-2-2zM9 17H7v-7h2v7zm4 0h-2V7h2v10zm4 0h-2v-4h2v4z\"/>\n",
              "    </g>\n",
              "</svg>\n",
              "  </button>\n",
              "\n",
              "<style>\n",
              "  .colab-df-quickchart {\n",
              "      --bg-color: #E8F0FE;\n",
              "      --fill-color: #1967D2;\n",
              "      --hover-bg-color: #E2EBFA;\n",
              "      --hover-fill-color: #174EA6;\n",
              "      --disabled-fill-color: #AAA;\n",
              "      --disabled-bg-color: #DDD;\n",
              "  }\n",
              "\n",
              "  [theme=dark] .colab-df-quickchart {\n",
              "      --bg-color: #3B4455;\n",
              "      --fill-color: #D2E3FC;\n",
              "      --hover-bg-color: #434B5C;\n",
              "      --hover-fill-color: #FFFFFF;\n",
              "      --disabled-bg-color: #3B4455;\n",
              "      --disabled-fill-color: #666;\n",
              "  }\n",
              "\n",
              "  .colab-df-quickchart {\n",
              "    background-color: var(--bg-color);\n",
              "    border: none;\n",
              "    border-radius: 50%;\n",
              "    cursor: pointer;\n",
              "    display: none;\n",
              "    fill: var(--fill-color);\n",
              "    height: 32px;\n",
              "    padding: 0;\n",
              "    width: 32px;\n",
              "  }\n",
              "\n",
              "  .colab-df-quickchart:hover {\n",
              "    background-color: var(--hover-bg-color);\n",
              "    box-shadow: 0 1px 2px rgba(60, 64, 67, 0.3), 0 1px 3px 1px rgba(60, 64, 67, 0.15);\n",
              "    fill: var(--button-hover-fill-color);\n",
              "  }\n",
              "\n",
              "  .colab-df-quickchart-complete:disabled,\n",
              "  .colab-df-quickchart-complete:disabled:hover {\n",
              "    background-color: var(--disabled-bg-color);\n",
              "    fill: var(--disabled-fill-color);\n",
              "    box-shadow: none;\n",
              "  }\n",
              "\n",
              "  .colab-df-spinner {\n",
              "    border: 2px solid var(--fill-color);\n",
              "    border-color: transparent;\n",
              "    border-bottom-color: var(--fill-color);\n",
              "    animation:\n",
              "      spin 1s steps(1) infinite;\n",
              "  }\n",
              "\n",
              "  @keyframes spin {\n",
              "    0% {\n",
              "      border-color: transparent;\n",
              "      border-bottom-color: var(--fill-color);\n",
              "      border-left-color: var(--fill-color);\n",
              "    }\n",
              "    20% {\n",
              "      border-color: transparent;\n",
              "      border-left-color: var(--fill-color);\n",
              "      border-top-color: var(--fill-color);\n",
              "    }\n",
              "    30% {\n",
              "      border-color: transparent;\n",
              "      border-left-color: var(--fill-color);\n",
              "      border-top-color: var(--fill-color);\n",
              "      border-right-color: var(--fill-color);\n",
              "    }\n",
              "    40% {\n",
              "      border-color: transparent;\n",
              "      border-right-color: var(--fill-color);\n",
              "      border-top-color: var(--fill-color);\n",
              "    }\n",
              "    60% {\n",
              "      border-color: transparent;\n",
              "      border-right-color: var(--fill-color);\n",
              "    }\n",
              "    80% {\n",
              "      border-color: transparent;\n",
              "      border-right-color: var(--fill-color);\n",
              "      border-bottom-color: var(--fill-color);\n",
              "    }\n",
              "    90% {\n",
              "      border-color: transparent;\n",
              "      border-bottom-color: var(--fill-color);\n",
              "    }\n",
              "  }\n",
              "</style>\n",
              "\n",
              "  <script>\n",
              "    async function quickchart(key) {\n",
              "      const quickchartButtonEl =\n",
              "        document.querySelector('#' + key + ' button');\n",
              "      quickchartButtonEl.disabled = true;  // To prevent multiple clicks.\n",
              "      quickchartButtonEl.classList.add('colab-df-spinner');\n",
              "      try {\n",
              "        const charts = await google.colab.kernel.invokeFunction(\n",
              "            'suggestCharts', [key], {});\n",
              "      } catch (error) {\n",
              "        console.error('Error during call to suggestCharts:', error);\n",
              "      }\n",
              "      quickchartButtonEl.classList.remove('colab-df-spinner');\n",
              "      quickchartButtonEl.classList.add('colab-df-quickchart-complete');\n",
              "    }\n",
              "    (() => {\n",
              "      let quickchartButtonEl =\n",
              "        document.querySelector('#df-7adc04ab-c634-434b-bdfa-944627e57351 button');\n",
              "      quickchartButtonEl.style.display =\n",
              "        google.colab.kernel.accessAllowed ? 'block' : 'none';\n",
              "    })();\n",
              "  </script>\n",
              "</div>\n",
              "\n",
              "    </div>\n",
              "  </div>\n"
            ]
          },
          "metadata": {},
          "execution_count": 88
        }
      ]
    },
    {
      "cell_type": "code",
      "source": [
        "df.shape"
      ],
      "metadata": {
        "colab": {
          "base_uri": "https://localhost:8080/"
        },
        "id": "eJy5FiEdQuZL",
        "outputId": "64593212-d228-4908-959a-1f7f729bd8d3"
      },
      "execution_count": null,
      "outputs": [
        {
          "output_type": "execute_result",
          "data": {
            "text/plain": [
              "(39644, 61)"
            ]
          },
          "metadata": {},
          "execution_count": 89
        }
      ]
    },
    {
      "cell_type": "markdown",
      "source": [
        "<h3>We have 39644 examples and 61 features! Looks like we need to do <b>Feature Selection</b> as some columns have to be mdified or eliminated.</h3>"
      ],
      "metadata": {
        "id": "k218LB7pRjAE"
      }
    },
    {
      "cell_type": "markdown",
      "source": [
        "<h2><b><u>DATA PREPROCESSING</u></b></h2>\n",
        "<h3>Let's clean our data and make it ready for our regression analysis.</h3>"
      ],
      "metadata": {
        "id": "i0Cn9yPeS9VR"
      }
    },
    {
      "cell_type": "code",
      "source": [
        "df.columns"
      ],
      "metadata": {
        "colab": {
          "base_uri": "https://localhost:8080/"
        },
        "id": "fDE-JPxORXGr",
        "outputId": "460c217b-6c2f-4fbd-8b3b-254b2adf4f2a"
      },
      "execution_count": null,
      "outputs": [
        {
          "output_type": "execute_result",
          "data": {
            "text/plain": [
              "Index(['url', ' timedelta', ' n_tokens_title', ' n_tokens_content',\n",
              "       ' n_unique_tokens', ' n_non_stop_words', ' n_non_stop_unique_tokens',\n",
              "       ' num_hrefs', ' num_self_hrefs', ' num_imgs', ' num_videos',\n",
              "       ' average_token_length', ' num_keywords', ' data_channel_is_lifestyle',\n",
              "       ' data_channel_is_entertainment', ' data_channel_is_bus',\n",
              "       ' data_channel_is_socmed', ' data_channel_is_tech',\n",
              "       ' data_channel_is_world', ' kw_min_min', ' kw_max_min', ' kw_avg_min',\n",
              "       ' kw_min_max', ' kw_max_max', ' kw_avg_max', ' kw_min_avg',\n",
              "       ' kw_max_avg', ' kw_avg_avg', ' self_reference_min_shares',\n",
              "       ' self_reference_max_shares', ' self_reference_avg_sharess',\n",
              "       ' weekday_is_monday', ' weekday_is_tuesday', ' weekday_is_wednesday',\n",
              "       ' weekday_is_thursday', ' weekday_is_friday', ' weekday_is_saturday',\n",
              "       ' weekday_is_sunday', ' is_weekend', ' LDA_00', ' LDA_01', ' LDA_02',\n",
              "       ' LDA_03', ' LDA_04', ' global_subjectivity',\n",
              "       ' global_sentiment_polarity', ' global_rate_positive_words',\n",
              "       ' global_rate_negative_words', ' rate_positive_words',\n",
              "       ' rate_negative_words', ' avg_positive_polarity',\n",
              "       ' min_positive_polarity', ' max_positive_polarity',\n",
              "       ' avg_negative_polarity', ' min_negative_polarity',\n",
              "       ' max_negative_polarity', ' title_subjectivity',\n",
              "       ' title_sentiment_polarity', ' abs_title_subjectivity',\n",
              "       ' abs_title_sentiment_polarity', ' shares'],\n",
              "      dtype='object')"
            ]
          },
          "metadata": {},
          "execution_count": 90
        }
      ]
    },
    {
      "cell_type": "markdown",
      "source": [
        "<h3>IMPORTANT: I read about this dataset on UCL ML repository from where this dataset was downloaded and I found out that the first two columns 'url' and 'timedelta' are non-predictive, that is, these two columns provide no value in predicting the number of shares. Hence, we will eliminate these two columns</h3>"
      ],
      "metadata": {
        "id": "WCSNlPRvUMvQ"
      }
    },
    {
      "cell_type": "code",
      "source": [
        "df.drop(['url', ' timedelta'], axis = 1, inplace = True)"
      ],
      "metadata": {
        "id": "VlrY7ScmWXFH"
      },
      "execution_count": null,
      "outputs": []
    },
    {
      "cell_type": "code",
      "source": [
        "df.head()"
      ],
      "metadata": {
        "id": "YV0L9ePBWgF-",
        "colab": {
          "base_uri": "https://localhost:8080/",
          "height": 255
        },
        "outputId": "db0640e1-5e80-4179-a744-55495a838082"
      },
      "execution_count": null,
      "outputs": [
        {
          "output_type": "execute_result",
          "data": {
            "text/plain": [
              "    n_tokens_title   n_tokens_content   n_unique_tokens   n_non_stop_words  \\\n",
              "0             12.0              219.0          0.663594                1.0   \n",
              "1              9.0              255.0          0.604743                1.0   \n",
              "2              9.0              211.0          0.575130                1.0   \n",
              "3              9.0              531.0          0.503788                1.0   \n",
              "4             13.0             1072.0          0.415646                1.0   \n",
              "\n",
              "    n_non_stop_unique_tokens   num_hrefs   num_self_hrefs   num_imgs  \\\n",
              "0                   0.815385         4.0              2.0        1.0   \n",
              "1                   0.791946         3.0              1.0        1.0   \n",
              "2                   0.663866         3.0              1.0        1.0   \n",
              "3                   0.665635         9.0              0.0        1.0   \n",
              "4                   0.540890        19.0             19.0       20.0   \n",
              "\n",
              "    num_videos   average_token_length  ...   min_positive_polarity  \\\n",
              "0          0.0               4.680365  ...                0.100000   \n",
              "1          0.0               4.913725  ...                0.033333   \n",
              "2          0.0               4.393365  ...                0.100000   \n",
              "3          0.0               4.404896  ...                0.136364   \n",
              "4          0.0               4.682836  ...                0.033333   \n",
              "\n",
              "    max_positive_polarity   avg_negative_polarity   min_negative_polarity  \\\n",
              "0                     0.7               -0.350000                  -0.600   \n",
              "1                     0.7               -0.118750                  -0.125   \n",
              "2                     1.0               -0.466667                  -0.800   \n",
              "3                     0.8               -0.369697                  -0.600   \n",
              "4                     1.0               -0.220192                  -0.500   \n",
              "\n",
              "    max_negative_polarity   title_subjectivity   title_sentiment_polarity  \\\n",
              "0               -0.200000             0.500000                  -0.187500   \n",
              "1               -0.100000             0.000000                   0.000000   \n",
              "2               -0.133333             0.000000                   0.000000   \n",
              "3               -0.166667             0.000000                   0.000000   \n",
              "4               -0.050000             0.454545                   0.136364   \n",
              "\n",
              "    abs_title_subjectivity   abs_title_sentiment_polarity   shares  \n",
              "0                 0.000000                       0.187500      593  \n",
              "1                 0.500000                       0.000000      711  \n",
              "2                 0.500000                       0.000000     1500  \n",
              "3                 0.500000                       0.000000     1200  \n",
              "4                 0.045455                       0.136364      505  \n",
              "\n",
              "[5 rows x 59 columns]"
            ],
            "text/html": [
              "\n",
              "  <div id=\"df-247180ee-fb02-4ad7-8b89-d2261f0bc54a\" class=\"colab-df-container\">\n",
              "    <div>\n",
              "<style scoped>\n",
              "    .dataframe tbody tr th:only-of-type {\n",
              "        vertical-align: middle;\n",
              "    }\n",
              "\n",
              "    .dataframe tbody tr th {\n",
              "        vertical-align: top;\n",
              "    }\n",
              "\n",
              "    .dataframe thead th {\n",
              "        text-align: right;\n",
              "    }\n",
              "</style>\n",
              "<table border=\"1\" class=\"dataframe\">\n",
              "  <thead>\n",
              "    <tr style=\"text-align: right;\">\n",
              "      <th></th>\n",
              "      <th>n_tokens_title</th>\n",
              "      <th>n_tokens_content</th>\n",
              "      <th>n_unique_tokens</th>\n",
              "      <th>n_non_stop_words</th>\n",
              "      <th>n_non_stop_unique_tokens</th>\n",
              "      <th>num_hrefs</th>\n",
              "      <th>num_self_hrefs</th>\n",
              "      <th>num_imgs</th>\n",
              "      <th>num_videos</th>\n",
              "      <th>average_token_length</th>\n",
              "      <th>...</th>\n",
              "      <th>min_positive_polarity</th>\n",
              "      <th>max_positive_polarity</th>\n",
              "      <th>avg_negative_polarity</th>\n",
              "      <th>min_negative_polarity</th>\n",
              "      <th>max_negative_polarity</th>\n",
              "      <th>title_subjectivity</th>\n",
              "      <th>title_sentiment_polarity</th>\n",
              "      <th>abs_title_subjectivity</th>\n",
              "      <th>abs_title_sentiment_polarity</th>\n",
              "      <th>shares</th>\n",
              "    </tr>\n",
              "  </thead>\n",
              "  <tbody>\n",
              "    <tr>\n",
              "      <th>0</th>\n",
              "      <td>12.0</td>\n",
              "      <td>219.0</td>\n",
              "      <td>0.663594</td>\n",
              "      <td>1.0</td>\n",
              "      <td>0.815385</td>\n",
              "      <td>4.0</td>\n",
              "      <td>2.0</td>\n",
              "      <td>1.0</td>\n",
              "      <td>0.0</td>\n",
              "      <td>4.680365</td>\n",
              "      <td>...</td>\n",
              "      <td>0.100000</td>\n",
              "      <td>0.7</td>\n",
              "      <td>-0.350000</td>\n",
              "      <td>-0.600</td>\n",
              "      <td>-0.200000</td>\n",
              "      <td>0.500000</td>\n",
              "      <td>-0.187500</td>\n",
              "      <td>0.000000</td>\n",
              "      <td>0.187500</td>\n",
              "      <td>593</td>\n",
              "    </tr>\n",
              "    <tr>\n",
              "      <th>1</th>\n",
              "      <td>9.0</td>\n",
              "      <td>255.0</td>\n",
              "      <td>0.604743</td>\n",
              "      <td>1.0</td>\n",
              "      <td>0.791946</td>\n",
              "      <td>3.0</td>\n",
              "      <td>1.0</td>\n",
              "      <td>1.0</td>\n",
              "      <td>0.0</td>\n",
              "      <td>4.913725</td>\n",
              "      <td>...</td>\n",
              "      <td>0.033333</td>\n",
              "      <td>0.7</td>\n",
              "      <td>-0.118750</td>\n",
              "      <td>-0.125</td>\n",
              "      <td>-0.100000</td>\n",
              "      <td>0.000000</td>\n",
              "      <td>0.000000</td>\n",
              "      <td>0.500000</td>\n",
              "      <td>0.000000</td>\n",
              "      <td>711</td>\n",
              "    </tr>\n",
              "    <tr>\n",
              "      <th>2</th>\n",
              "      <td>9.0</td>\n",
              "      <td>211.0</td>\n",
              "      <td>0.575130</td>\n",
              "      <td>1.0</td>\n",
              "      <td>0.663866</td>\n",
              "      <td>3.0</td>\n",
              "      <td>1.0</td>\n",
              "      <td>1.0</td>\n",
              "      <td>0.0</td>\n",
              "      <td>4.393365</td>\n",
              "      <td>...</td>\n",
              "      <td>0.100000</td>\n",
              "      <td>1.0</td>\n",
              "      <td>-0.466667</td>\n",
              "      <td>-0.800</td>\n",
              "      <td>-0.133333</td>\n",
              "      <td>0.000000</td>\n",
              "      <td>0.000000</td>\n",
              "      <td>0.500000</td>\n",
              "      <td>0.000000</td>\n",
              "      <td>1500</td>\n",
              "    </tr>\n",
              "    <tr>\n",
              "      <th>3</th>\n",
              "      <td>9.0</td>\n",
              "      <td>531.0</td>\n",
              "      <td>0.503788</td>\n",
              "      <td>1.0</td>\n",
              "      <td>0.665635</td>\n",
              "      <td>9.0</td>\n",
              "      <td>0.0</td>\n",
              "      <td>1.0</td>\n",
              "      <td>0.0</td>\n",
              "      <td>4.404896</td>\n",
              "      <td>...</td>\n",
              "      <td>0.136364</td>\n",
              "      <td>0.8</td>\n",
              "      <td>-0.369697</td>\n",
              "      <td>-0.600</td>\n",
              "      <td>-0.166667</td>\n",
              "      <td>0.000000</td>\n",
              "      <td>0.000000</td>\n",
              "      <td>0.500000</td>\n",
              "      <td>0.000000</td>\n",
              "      <td>1200</td>\n",
              "    </tr>\n",
              "    <tr>\n",
              "      <th>4</th>\n",
              "      <td>13.0</td>\n",
              "      <td>1072.0</td>\n",
              "      <td>0.415646</td>\n",
              "      <td>1.0</td>\n",
              "      <td>0.540890</td>\n",
              "      <td>19.0</td>\n",
              "      <td>19.0</td>\n",
              "      <td>20.0</td>\n",
              "      <td>0.0</td>\n",
              "      <td>4.682836</td>\n",
              "      <td>...</td>\n",
              "      <td>0.033333</td>\n",
              "      <td>1.0</td>\n",
              "      <td>-0.220192</td>\n",
              "      <td>-0.500</td>\n",
              "      <td>-0.050000</td>\n",
              "      <td>0.454545</td>\n",
              "      <td>0.136364</td>\n",
              "      <td>0.045455</td>\n",
              "      <td>0.136364</td>\n",
              "      <td>505</td>\n",
              "    </tr>\n",
              "  </tbody>\n",
              "</table>\n",
              "<p>5 rows × 59 columns</p>\n",
              "</div>\n",
              "    <div class=\"colab-df-buttons\">\n",
              "\n",
              "  <div class=\"colab-df-container\">\n",
              "    <button class=\"colab-df-convert\" onclick=\"convertToInteractive('df-247180ee-fb02-4ad7-8b89-d2261f0bc54a')\"\n",
              "            title=\"Convert this dataframe to an interactive table.\"\n",
              "            style=\"display:none;\">\n",
              "\n",
              "  <svg xmlns=\"http://www.w3.org/2000/svg\" height=\"24px\" viewBox=\"0 -960 960 960\">\n",
              "    <path d=\"M120-120v-720h720v720H120Zm60-500h600v-160H180v160Zm220 220h160v-160H400v160Zm0 220h160v-160H400v160ZM180-400h160v-160H180v160Zm440 0h160v-160H620v160ZM180-180h160v-160H180v160Zm440 0h160v-160H620v160Z\"/>\n",
              "  </svg>\n",
              "    </button>\n",
              "\n",
              "  <style>\n",
              "    .colab-df-container {\n",
              "      display:flex;\n",
              "      gap: 12px;\n",
              "    }\n",
              "\n",
              "    .colab-df-convert {\n",
              "      background-color: #E8F0FE;\n",
              "      border: none;\n",
              "      border-radius: 50%;\n",
              "      cursor: pointer;\n",
              "      display: none;\n",
              "      fill: #1967D2;\n",
              "      height: 32px;\n",
              "      padding: 0 0 0 0;\n",
              "      width: 32px;\n",
              "    }\n",
              "\n",
              "    .colab-df-convert:hover {\n",
              "      background-color: #E2EBFA;\n",
              "      box-shadow: 0px 1px 2px rgba(60, 64, 67, 0.3), 0px 1px 3px 1px rgba(60, 64, 67, 0.15);\n",
              "      fill: #174EA6;\n",
              "    }\n",
              "\n",
              "    .colab-df-buttons div {\n",
              "      margin-bottom: 4px;\n",
              "    }\n",
              "\n",
              "    [theme=dark] .colab-df-convert {\n",
              "      background-color: #3B4455;\n",
              "      fill: #D2E3FC;\n",
              "    }\n",
              "\n",
              "    [theme=dark] .colab-df-convert:hover {\n",
              "      background-color: #434B5C;\n",
              "      box-shadow: 0px 1px 3px 1px rgba(0, 0, 0, 0.15);\n",
              "      filter: drop-shadow(0px 1px 2px rgba(0, 0, 0, 0.3));\n",
              "      fill: #FFFFFF;\n",
              "    }\n",
              "  </style>\n",
              "\n",
              "    <script>\n",
              "      const buttonEl =\n",
              "        document.querySelector('#df-247180ee-fb02-4ad7-8b89-d2261f0bc54a button.colab-df-convert');\n",
              "      buttonEl.style.display =\n",
              "        google.colab.kernel.accessAllowed ? 'block' : 'none';\n",
              "\n",
              "      async function convertToInteractive(key) {\n",
              "        const element = document.querySelector('#df-247180ee-fb02-4ad7-8b89-d2261f0bc54a');\n",
              "        const dataTable =\n",
              "          await google.colab.kernel.invokeFunction('convertToInteractive',\n",
              "                                                    [key], {});\n",
              "        if (!dataTable) return;\n",
              "\n",
              "        const docLinkHtml = 'Like what you see? Visit the ' +\n",
              "          '<a target=\"_blank\" href=https://colab.research.google.com/notebooks/data_table.ipynb>data table notebook</a>'\n",
              "          + ' to learn more about interactive tables.';\n",
              "        element.innerHTML = '';\n",
              "        dataTable['output_type'] = 'display_data';\n",
              "        await google.colab.output.renderOutput(dataTable, element);\n",
              "        const docLink = document.createElement('div');\n",
              "        docLink.innerHTML = docLinkHtml;\n",
              "        element.appendChild(docLink);\n",
              "      }\n",
              "    </script>\n",
              "  </div>\n",
              "\n",
              "\n",
              "<div id=\"df-44a65ce3-f102-4cc4-b5ae-1e17c5544a72\">\n",
              "  <button class=\"colab-df-quickchart\" onclick=\"quickchart('df-44a65ce3-f102-4cc4-b5ae-1e17c5544a72')\"\n",
              "            title=\"Suggest charts\"\n",
              "            style=\"display:none;\">\n",
              "\n",
              "<svg xmlns=\"http://www.w3.org/2000/svg\" height=\"24px\"viewBox=\"0 0 24 24\"\n",
              "     width=\"24px\">\n",
              "    <g>\n",
              "        <path d=\"M19 3H5c-1.1 0-2 .9-2 2v14c0 1.1.9 2 2 2h14c1.1 0 2-.9 2-2V5c0-1.1-.9-2-2-2zM9 17H7v-7h2v7zm4 0h-2V7h2v10zm4 0h-2v-4h2v4z\"/>\n",
              "    </g>\n",
              "</svg>\n",
              "  </button>\n",
              "\n",
              "<style>\n",
              "  .colab-df-quickchart {\n",
              "      --bg-color: #E8F0FE;\n",
              "      --fill-color: #1967D2;\n",
              "      --hover-bg-color: #E2EBFA;\n",
              "      --hover-fill-color: #174EA6;\n",
              "      --disabled-fill-color: #AAA;\n",
              "      --disabled-bg-color: #DDD;\n",
              "  }\n",
              "\n",
              "  [theme=dark] .colab-df-quickchart {\n",
              "      --bg-color: #3B4455;\n",
              "      --fill-color: #D2E3FC;\n",
              "      --hover-bg-color: #434B5C;\n",
              "      --hover-fill-color: #FFFFFF;\n",
              "      --disabled-bg-color: #3B4455;\n",
              "      --disabled-fill-color: #666;\n",
              "  }\n",
              "\n",
              "  .colab-df-quickchart {\n",
              "    background-color: var(--bg-color);\n",
              "    border: none;\n",
              "    border-radius: 50%;\n",
              "    cursor: pointer;\n",
              "    display: none;\n",
              "    fill: var(--fill-color);\n",
              "    height: 32px;\n",
              "    padding: 0;\n",
              "    width: 32px;\n",
              "  }\n",
              "\n",
              "  .colab-df-quickchart:hover {\n",
              "    background-color: var(--hover-bg-color);\n",
              "    box-shadow: 0 1px 2px rgba(60, 64, 67, 0.3), 0 1px 3px 1px rgba(60, 64, 67, 0.15);\n",
              "    fill: var(--button-hover-fill-color);\n",
              "  }\n",
              "\n",
              "  .colab-df-quickchart-complete:disabled,\n",
              "  .colab-df-quickchart-complete:disabled:hover {\n",
              "    background-color: var(--disabled-bg-color);\n",
              "    fill: var(--disabled-fill-color);\n",
              "    box-shadow: none;\n",
              "  }\n",
              "\n",
              "  .colab-df-spinner {\n",
              "    border: 2px solid var(--fill-color);\n",
              "    border-color: transparent;\n",
              "    border-bottom-color: var(--fill-color);\n",
              "    animation:\n",
              "      spin 1s steps(1) infinite;\n",
              "  }\n",
              "\n",
              "  @keyframes spin {\n",
              "    0% {\n",
              "      border-color: transparent;\n",
              "      border-bottom-color: var(--fill-color);\n",
              "      border-left-color: var(--fill-color);\n",
              "    }\n",
              "    20% {\n",
              "      border-color: transparent;\n",
              "      border-left-color: var(--fill-color);\n",
              "      border-top-color: var(--fill-color);\n",
              "    }\n",
              "    30% {\n",
              "      border-color: transparent;\n",
              "      border-left-color: var(--fill-color);\n",
              "      border-top-color: var(--fill-color);\n",
              "      border-right-color: var(--fill-color);\n",
              "    }\n",
              "    40% {\n",
              "      border-color: transparent;\n",
              "      border-right-color: var(--fill-color);\n",
              "      border-top-color: var(--fill-color);\n",
              "    }\n",
              "    60% {\n",
              "      border-color: transparent;\n",
              "      border-right-color: var(--fill-color);\n",
              "    }\n",
              "    80% {\n",
              "      border-color: transparent;\n",
              "      border-right-color: var(--fill-color);\n",
              "      border-bottom-color: var(--fill-color);\n",
              "    }\n",
              "    90% {\n",
              "      border-color: transparent;\n",
              "      border-bottom-color: var(--fill-color);\n",
              "    }\n",
              "  }\n",
              "</style>\n",
              "\n",
              "  <script>\n",
              "    async function quickchart(key) {\n",
              "      const quickchartButtonEl =\n",
              "        document.querySelector('#' + key + ' button');\n",
              "      quickchartButtonEl.disabled = true;  // To prevent multiple clicks.\n",
              "      quickchartButtonEl.classList.add('colab-df-spinner');\n",
              "      try {\n",
              "        const charts = await google.colab.kernel.invokeFunction(\n",
              "            'suggestCharts', [key], {});\n",
              "      } catch (error) {\n",
              "        console.error('Error during call to suggestCharts:', error);\n",
              "      }\n",
              "      quickchartButtonEl.classList.remove('colab-df-spinner');\n",
              "      quickchartButtonEl.classList.add('colab-df-quickchart-complete');\n",
              "    }\n",
              "    (() => {\n",
              "      let quickchartButtonEl =\n",
              "        document.querySelector('#df-44a65ce3-f102-4cc4-b5ae-1e17c5544a72 button');\n",
              "      quickchartButtonEl.style.display =\n",
              "        google.colab.kernel.accessAllowed ? 'block' : 'none';\n",
              "    })();\n",
              "  </script>\n",
              "</div>\n",
              "\n",
              "    </div>\n",
              "  </div>\n"
            ]
          },
          "metadata": {},
          "execution_count": 92
        }
      ]
    },
    {
      "cell_type": "code",
      "source": [
        "df.info()"
      ],
      "metadata": {
        "id": "bK0wcJ_kW4pI",
        "colab": {
          "base_uri": "https://localhost:8080/"
        },
        "outputId": "7fa92884-bf22-4978-93e5-1b9009361d3f"
      },
      "execution_count": null,
      "outputs": [
        {
          "output_type": "stream",
          "name": "stdout",
          "text": [
            "<class 'pandas.core.frame.DataFrame'>\n",
            "RangeIndex: 39644 entries, 0 to 39643\n",
            "Data columns (total 59 columns):\n",
            " #   Column                          Non-Null Count  Dtype  \n",
            "---  ------                          --------------  -----  \n",
            " 0    n_tokens_title                 39644 non-null  float64\n",
            " 1    n_tokens_content               39644 non-null  float64\n",
            " 2    n_unique_tokens                39644 non-null  float64\n",
            " 3    n_non_stop_words               39644 non-null  float64\n",
            " 4    n_non_stop_unique_tokens       39644 non-null  float64\n",
            " 5    num_hrefs                      39644 non-null  float64\n",
            " 6    num_self_hrefs                 39644 non-null  float64\n",
            " 7    num_imgs                       39644 non-null  float64\n",
            " 8    num_videos                     39644 non-null  float64\n",
            " 9    average_token_length           39644 non-null  float64\n",
            " 10   num_keywords                   39644 non-null  float64\n",
            " 11   data_channel_is_lifestyle      39644 non-null  float64\n",
            " 12   data_channel_is_entertainment  39644 non-null  float64\n",
            " 13   data_channel_is_bus            39644 non-null  float64\n",
            " 14   data_channel_is_socmed         39644 non-null  float64\n",
            " 15   data_channel_is_tech           39644 non-null  float64\n",
            " 16   data_channel_is_world          39644 non-null  float64\n",
            " 17   kw_min_min                     39644 non-null  float64\n",
            " 18   kw_max_min                     39644 non-null  float64\n",
            " 19   kw_avg_min                     39644 non-null  float64\n",
            " 20   kw_min_max                     39644 non-null  float64\n",
            " 21   kw_max_max                     39644 non-null  float64\n",
            " 22   kw_avg_max                     39644 non-null  float64\n",
            " 23   kw_min_avg                     39644 non-null  float64\n",
            " 24   kw_max_avg                     39644 non-null  float64\n",
            " 25   kw_avg_avg                     39644 non-null  float64\n",
            " 26   self_reference_min_shares      39644 non-null  float64\n",
            " 27   self_reference_max_shares      39644 non-null  float64\n",
            " 28   self_reference_avg_sharess     39644 non-null  float64\n",
            " 29   weekday_is_monday              39644 non-null  float64\n",
            " 30   weekday_is_tuesday             39644 non-null  float64\n",
            " 31   weekday_is_wednesday           39644 non-null  float64\n",
            " 32   weekday_is_thursday            39644 non-null  float64\n",
            " 33   weekday_is_friday              39644 non-null  float64\n",
            " 34   weekday_is_saturday            39644 non-null  float64\n",
            " 35   weekday_is_sunday              39644 non-null  float64\n",
            " 36   is_weekend                     39644 non-null  float64\n",
            " 37   LDA_00                         39644 non-null  float64\n",
            " 38   LDA_01                         39644 non-null  float64\n",
            " 39   LDA_02                         39644 non-null  float64\n",
            " 40   LDA_03                         39644 non-null  float64\n",
            " 41   LDA_04                         39644 non-null  float64\n",
            " 42   global_subjectivity            39644 non-null  float64\n",
            " 43   global_sentiment_polarity      39644 non-null  float64\n",
            " 44   global_rate_positive_words     39644 non-null  float64\n",
            " 45   global_rate_negative_words     39644 non-null  float64\n",
            " 46   rate_positive_words            39644 non-null  float64\n",
            " 47   rate_negative_words            39644 non-null  float64\n",
            " 48   avg_positive_polarity          39644 non-null  float64\n",
            " 49   min_positive_polarity          39644 non-null  float64\n",
            " 50   max_positive_polarity          39644 non-null  float64\n",
            " 51   avg_negative_polarity          39644 non-null  float64\n",
            " 52   min_negative_polarity          39644 non-null  float64\n",
            " 53   max_negative_polarity          39644 non-null  float64\n",
            " 54   title_subjectivity             39644 non-null  float64\n",
            " 55   title_sentiment_polarity       39644 non-null  float64\n",
            " 56   abs_title_subjectivity         39644 non-null  float64\n",
            " 57   abs_title_sentiment_polarity   39644 non-null  float64\n",
            " 58   shares                         39644 non-null  int64  \n",
            "dtypes: float64(58), int64(1)\n",
            "memory usage: 17.8 MB\n"
          ]
        }
      ]
    },
    {
      "cell_type": "code",
      "source": [
        "df.isnull().sum()"
      ],
      "metadata": {
        "id": "V4bMiVExXEFk",
        "colab": {
          "base_uri": "https://localhost:8080/"
        },
        "outputId": "a7e387c0-402e-4f38-cac4-e7cc7e2520d4"
      },
      "execution_count": null,
      "outputs": [
        {
          "output_type": "execute_result",
          "data": {
            "text/plain": [
              " n_tokens_title                   0\n",
              " n_tokens_content                 0\n",
              " n_unique_tokens                  0\n",
              " n_non_stop_words                 0\n",
              " n_non_stop_unique_tokens         0\n",
              " num_hrefs                        0\n",
              " num_self_hrefs                   0\n",
              " num_imgs                         0\n",
              " num_videos                       0\n",
              " average_token_length             0\n",
              " num_keywords                     0\n",
              " data_channel_is_lifestyle        0\n",
              " data_channel_is_entertainment    0\n",
              " data_channel_is_bus              0\n",
              " data_channel_is_socmed           0\n",
              " data_channel_is_tech             0\n",
              " data_channel_is_world            0\n",
              " kw_min_min                       0\n",
              " kw_max_min                       0\n",
              " kw_avg_min                       0\n",
              " kw_min_max                       0\n",
              " kw_max_max                       0\n",
              " kw_avg_max                       0\n",
              " kw_min_avg                       0\n",
              " kw_max_avg                       0\n",
              " kw_avg_avg                       0\n",
              " self_reference_min_shares        0\n",
              " self_reference_max_shares        0\n",
              " self_reference_avg_sharess       0\n",
              " weekday_is_monday                0\n",
              " weekday_is_tuesday               0\n",
              " weekday_is_wednesday             0\n",
              " weekday_is_thursday              0\n",
              " weekday_is_friday                0\n",
              " weekday_is_saturday              0\n",
              " weekday_is_sunday                0\n",
              " is_weekend                       0\n",
              " LDA_00                           0\n",
              " LDA_01                           0\n",
              " LDA_02                           0\n",
              " LDA_03                           0\n",
              " LDA_04                           0\n",
              " global_subjectivity              0\n",
              " global_sentiment_polarity        0\n",
              " global_rate_positive_words       0\n",
              " global_rate_negative_words       0\n",
              " rate_positive_words              0\n",
              " rate_negative_words              0\n",
              " avg_positive_polarity            0\n",
              " min_positive_polarity            0\n",
              " max_positive_polarity            0\n",
              " avg_negative_polarity            0\n",
              " min_negative_polarity            0\n",
              " max_negative_polarity            0\n",
              " title_subjectivity               0\n",
              " title_sentiment_polarity         0\n",
              " abs_title_subjectivity           0\n",
              " abs_title_sentiment_polarity     0\n",
              " shares                           0\n",
              "dtype: int64"
            ]
          },
          "metadata": {},
          "execution_count": 94
        }
      ]
    },
    {
      "cell_type": "markdown",
      "source": [
        "<h3>WOW! We don't have missing values to handle. We got lucky. You can handle missing values by either dropping rows where you can't preidct what the missing value would be by intuition. Otherwise, you can replace the missing values by either mean, median or mode of the respective column. There are other ways as well. Please look online.</h3>"
      ],
      "metadata": {
        "id": "UYA6969YXOgK"
      }
    },
    {
      "cell_type": "markdown",
      "source": [
        "<h2><b><u>Exploratory Data Analysis (EDA)</u></b></h2>\n",
        "<h3>Let's visualize our data using Matplotlib. Let's see how many of news content is present depending on the genre of the news denoted as data_channel in this dataset.</h3>"
      ],
      "metadata": {
        "id": "vJtGbcrQz7vH"
      }
    },
    {
      "cell_type": "code",
      "source": [
        "lifestyle = df[df[' data_channel_is_lifestyle'] == 1.0]\n",
        "entertainment = df[df[' data_channel_is_entertainment'] == 1.0]\n",
        "business = df[df[' data_channel_is_bus'] == 1.0]\n",
        "social_media = df[df[' data_channel_is_socmed'] == 1.0]\n",
        "tech = df[df[' data_channel_is_tech'] == 1.0]\n",
        "world = df[df[' data_channel_is_world'] == 1.0]"
      ],
      "metadata": {
        "id": "zQEYj51i0Q8L"
      },
      "execution_count": null,
      "outputs": []
    },
    {
      "cell_type": "code",
      "source": [
        "labels = ['Lifestyle', 'Entertainment', 'Business', 'Social Media', 'Tech', 'World']\n",
        "values = []\n",
        "l = lifestyle.shape[0]\n",
        "e = entertainment.shape[0]\n",
        "b = business.shape[0]\n",
        "s = social_media.shape[0]\n",
        "t = tech.shape[0]\n",
        "w = world.shape[0]\n",
        "values.append(l)\n",
        "values.append(e)\n",
        "values.append(b)\n",
        "values.append(s)\n",
        "values.append(t)\n",
        "values.append(w)\n",
        "plt.figure(figsize=(8, 8))\n",
        "plt.bar(labels, values)\n",
        "plt.title(\"News Articles\")\n",
        "plt.xlabel(\"Genre of news\")\n",
        "plt.ylabel(\"Number of news articles\")"
      ],
      "metadata": {
        "colab": {
          "base_uri": "https://localhost:8080/",
          "height": 735
        },
        "id": "wJps0RRS1xeJ",
        "outputId": "c2647c88-0c74-4c47-a2d5-d1622c360b6f"
      },
      "execution_count": null,
      "outputs": [
        {
          "output_type": "execute_result",
          "data": {
            "text/plain": [
              "Text(0, 0.5, 'Number of news articles')"
            ]
          },
          "metadata": {},
          "execution_count": 96
        },
        {
          "output_type": "display_data",
          "data": {
            "text/plain": [
              "<Figure size 800x800 with 1 Axes>"
            ],
            "image/png": "[encoded data removed]"
          },
          "metadata": {}
        }
      ]
    },
    {
      "cell_type": "markdown",
      "source": [
        "<h3>From the above graph we come to know that the most news articles are about world news, then about tech and entertainment <b>indicating that there are a lot of things happening around the world</b>. It might be good or bad. We'll see that later.</h3>"
      ],
      "metadata": {
        "id": "g_ldv4CV3kCG"
      }
    },
    {
      "cell_type": "markdown",
      "source": [
        "<h3>Now let's see which genre of news has the longest title</h3>"
      ],
      "metadata": {
        "id": "DQDTofgw4B6w"
      }
    },
    {
      "cell_type": "code",
      "source": [
        "labels = ['Lifestyle', 'Entertainment', 'Business', 'Social Media', 'Tech', 'World']\n",
        "values = []\n",
        "l = lifestyle[' n_tokens_title'].sum()\n",
        "e = entertainment[' n_tokens_title'].sum()\n",
        "b = business[' n_tokens_title'].sum()\n",
        "s = social_media[' n_tokens_title'].sum()\n",
        "t = tech[' n_tokens_title'].sum()\n",
        "w = world[' n_tokens_title'].sum()\n",
        "values.append(l)\n",
        "values.append(e)\n",
        "values.append(b)\n",
        "values.append(s)\n",
        "values.append(t)\n",
        "values.append(w)\n",
        "plt.figure(figsize=(8, 8))\n",
        "plt.bar(labels, values)\n",
        "plt.title(\"News Articles\")\n",
        "plt.xlabel(\"Genre of news\")\n",
        "plt.ylabel(\"Number of words in the title\")"
      ],
      "metadata": {
        "colab": {
          "base_uri": "https://localhost:8080/",
          "height": 735
        },
        "id": "B45dIB8B38Il",
        "outputId": "0b9550a7-e630-4593-8091-16de2d709976"
      },
      "execution_count": null,
      "outputs": [
        {
          "output_type": "execute_result",
          "data": {
            "text/plain": [
              "Text(0, 0.5, 'Number of words in the title')"
            ]
          },
          "metadata": {},
          "execution_count": 97
        },
        {
          "output_type": "display_data",
          "data": {
            "text/plain": [
              "<Figure size 800x800 with 1 Axes>"
            ],
            "image/png": "[encoded data removed]"
          },
          "metadata": {}
        }
      ]
    },
    {
      "cell_type": "markdown",
      "source": [
        "<h3>It seems that world news have usually longer titles catching the attention of many audience.</h3>"
      ],
      "metadata": {
        "id": "mEYHBZTG7Qp5"
      }
    },
    {
      "cell_type": "code",
      "source": [
        "labels = ['Lifestyle', 'Entertainment', 'Business', 'Social Media', 'Tech', 'World']\n",
        "values = []\n",
        "l = lifestyle[' n_tokens_content'].sum()\n",
        "e = entertainment[' n_tokens_content'].sum()\n",
        "b = business[' n_tokens_content'].sum()\n",
        "s = social_media[' n_tokens_content'].sum()\n",
        "t = tech[' n_tokens_content'].sum()\n",
        "w = world[' n_tokens_content'].sum()\n",
        "values.append(l)\n",
        "values.append(e)\n",
        "values.append(b)\n",
        "values.append(s)\n",
        "values.append(t)\n",
        "values.append(w)\n",
        "plt.figure(figsize=(8, 8))\n",
        "plt.bar(labels, values)\n",
        "plt.title(\"News Articles\")\n",
        "plt.xlabel(\"Genre of news\")\n",
        "plt.ylabel(\"Number of words in the content in millions\")"
      ],
      "metadata": {
        "colab": {
          "base_uri": "https://localhost:8080/",
          "height": 735
        },
        "id": "oNxdPHla7ddS",
        "outputId": "b31fda5f-59c8-4196-e820-96b6568fb4c5"
      },
      "execution_count": null,
      "outputs": [
        {
          "output_type": "execute_result",
          "data": {
            "text/plain": [
              "Text(0, 0.5, 'Number of words in the content in millions')"
            ]
          },
          "metadata": {},
          "execution_count": 98
        },
        {
          "output_type": "display_data",
          "data": {
            "text/plain": [
              "<Figure size 800x800 with 1 Axes>"
            ],
            "image/png": "[encoded data removed]"
          },
          "metadata": {}
        }
      ]
    },
    {
      "cell_type": "markdown",
      "source": [
        "<h3>As expected, longer the headlines longer the content of the news.</h3>"
      ],
      "metadata": {
        "id": "T3xHVij67wJu"
      }
    },
    {
      "cell_type": "code",
      "source": [
        "labels = ['Lifestyle', 'Entertainment', 'Business', 'Social Media', 'Tech', 'World']\n",
        "values = []\n",
        "l = lifestyle[' global_rate_negative_words'].sum()\n",
        "e = entertainment[' global_rate_negative_words'].sum()\n",
        "b = business[' global_rate_negative_words'].sum()\n",
        "s = social_media[' global_rate_negative_words'].sum()\n",
        "t = tech[' global_rate_negative_words'].sum()\n",
        "w = world[' global_rate_negative_words'].sum()\n",
        "values.append(l)\n",
        "values.append(e)\n",
        "values.append(b)\n",
        "values.append(s)\n",
        "values.append(t)\n",
        "values.append(w)\n",
        "plt.figure(figsize=(8, 8))\n",
        "plt.bar(labels, values)\n",
        "plt.title(\"News Articles\")\n",
        "plt.xlabel(\"Genre of news\")\n",
        "plt.ylabel(\"Rate of negative words in the content\")"
      ],
      "metadata": {
        "colab": {
          "base_uri": "https://localhost:8080/",
          "height": 735
        },
        "id": "Dx-6XWYz8UOx",
        "outputId": "be94bbe1-b91b-4d64-f64c-dc169a8a4423"
      },
      "execution_count": null,
      "outputs": [
        {
          "output_type": "execute_result",
          "data": {
            "text/plain": [
              "Text(0, 0.5, 'Rate of negative words in the content')"
            ]
          },
          "metadata": {},
          "execution_count": 99
        },
        {
          "output_type": "display_data",
          "data": {
            "text/plain": [
              "<Figure size 800x800 with 1 Axes>"
            ],
            "image/png": "[encoded data removed]"
          },
          "metadata": {}
        }
      ]
    },
    {
      "cell_type": "markdown",
      "source": [
        "<h3>A lot of world news content has high rate of negative words which is bad. It indicates that there are a lot of <b>bad things happening in the world.</b></h3>"
      ],
      "metadata": {
        "id": "iPJY4lrv8uT4"
      }
    },
    {
      "cell_type": "markdown",
      "source": [
        "<h3>This dataset had data such that bar graphs would explain it the best. So, pie charts and scatter plots were not used in the visualization because of the data in the dataset.</h3>"
      ],
      "metadata": {
        "id": "o5wIq9qM9EkL"
      }
    },
    {
      "cell_type": "code",
      "source": [
        "df.max()"
      ],
      "metadata": {
        "colab": {
          "base_uri": "https://localhost:8080/"
        },
        "id": "4vH23_FVXKe7",
        "outputId": "6e18c56a-2523-4ab3-ebfc-fab5e82229d5"
      },
      "execution_count": null,
      "outputs": [
        {
          "output_type": "execute_result",
          "data": {
            "text/plain": [
              " n_tokens_title                       23.000000\n",
              " n_tokens_content                   8474.000000\n",
              " n_unique_tokens                     701.000000\n",
              " n_non_stop_words                   1042.000000\n",
              " n_non_stop_unique_tokens            650.000000\n",
              " num_hrefs                           304.000000\n",
              " num_self_hrefs                      116.000000\n",
              " num_imgs                            128.000000\n",
              " num_videos                           91.000000\n",
              " average_token_length                  8.041534\n",
              " num_keywords                         10.000000\n",
              " data_channel_is_lifestyle             1.000000\n",
              " data_channel_is_entertainment         1.000000\n",
              " data_channel_is_bus                   1.000000\n",
              " data_channel_is_socmed                1.000000\n",
              " data_channel_is_tech                  1.000000\n",
              " data_channel_is_world                 1.000000\n",
              " kw_min_min                          377.000000\n",
              " kw_max_min                       298400.000000\n",
              " kw_avg_min                        42827.857143\n",
              " kw_min_max                       843300.000000\n",
              " kw_max_max                       843300.000000\n",
              " kw_avg_max                       843300.000000\n",
              " kw_min_avg                         3613.039819\n",
              " kw_max_avg                       298400.000000\n",
              " kw_avg_avg                        43567.659946\n",
              " self_reference_min_shares        843300.000000\n",
              " self_reference_max_shares        843300.000000\n",
              " self_reference_avg_sharess       843300.000000\n",
              " weekday_is_monday                     1.000000\n",
              " weekday_is_tuesday                    1.000000\n",
              " weekday_is_wednesday                  1.000000\n",
              " weekday_is_thursday                   1.000000\n",
              " weekday_is_friday                     1.000000\n",
              " weekday_is_saturday                   1.000000\n",
              " weekday_is_sunday                     1.000000\n",
              " is_weekend                            1.000000\n",
              " LDA_00                                0.926994\n",
              " LDA_01                                0.925947\n",
              " LDA_02                                0.919999\n",
              " LDA_03                                0.926534\n",
              " LDA_04                                0.927191\n",
              " global_subjectivity                   1.000000\n",
              " global_sentiment_polarity             0.727841\n",
              " global_rate_positive_words            0.155488\n",
              " global_rate_negative_words            0.184932\n",
              " rate_positive_words                   1.000000\n",
              " rate_negative_words                   1.000000\n",
              " avg_positive_polarity                 1.000000\n",
              " min_positive_polarity                 1.000000\n",
              " max_positive_polarity                 1.000000\n",
              " avg_negative_polarity                 0.000000\n",
              " min_negative_polarity                 0.000000\n",
              " max_negative_polarity                 0.000000\n",
              " title_subjectivity                    1.000000\n",
              " title_sentiment_polarity              1.000000\n",
              " abs_title_subjectivity                0.500000\n",
              " abs_title_sentiment_polarity          1.000000\n",
              " shares                           843300.000000\n",
              "dtype: float64"
            ]
          },
          "metadata": {},
          "execution_count": 100
        }
      ]
    },
    {
      "cell_type": "markdown",
      "source": [
        " <h3>As you can see above that the maximum values for different columns are quite different. Some max values are very big and some max values are very small. This is an indication of highly imbalanced dataset. This is not good for our predictions. So, to tackle this problem one simple solution is to normalize the data. We will use Z-score normalization. We will implement Z-score funtion ourselves below.</h3>"
      ],
      "metadata": {
        "id": "jojNuMsiqb2e"
      }
    },
    {
      "cell_type": "code",
      "source": [
        "def z_score_normalization(column):\n",
        "  mean = np.mean(column)\n",
        "  std = np.std(column) #standard deviation\n",
        "  column -= mean\n",
        "  column /= std\n",
        "  return column"
      ],
      "metadata": {
        "id": "XsfBuPFHYAum"
      },
      "execution_count": null,
      "outputs": []
    },
    {
      "cell_type": "markdown",
      "source": [
        "<h3>Before normalizing, let's divide our dataset into training and testing datasets. </h3>"
      ],
      "metadata": {
        "id": "18dnEoftsdkM"
      }
    },
    {
      "cell_type": "code",
      "source": [
        "def split_dataset(df, seed):\n",
        "  df = df.sample(frac=1, random_state = seed).reset_index(drop=True)\n",
        "  boundary = int(np.floor(df.shape[0]*0.8))\n",
        "  X_train = df.iloc[:boundary,:-1]\n",
        "  Y_train = df.iloc[:boundary, -1]\n",
        "  X_test = df.iloc[boundary:, :-1]\n",
        "  Y_test = df.iloc[boundary:, -1]\n",
        "  return X_train, Y_train, X_test, Y_test"
      ],
      "metadata": {
        "id": "iymnSWJEhWuX"
      },
      "execution_count": null,
      "outputs": []
    },
    {
      "cell_type": "code",
      "source": [
        "X_train, Y_train, X_test, Y_test = split_dataset(df, 97)\n",
        "X_train.shape, Y_train.shape"
      ],
      "metadata": {
        "id": "y1_d_lkytILz",
        "colab": {
          "base_uri": "https://localhost:8080/"
        },
        "outputId": "0357e57f-f36c-4e8e-ad80-3c0e89d6a9f7"
      },
      "execution_count": null,
      "outputs": [
        {
          "output_type": "execute_result",
          "data": {
            "text/plain": [
              "((31715, 58), (31715,))"
            ]
          },
          "metadata": {},
          "execution_count": 103
        }
      ]
    },
    {
      "cell_type": "code",
      "source": [
        "X_test.shape, Y_test.shape"
      ],
      "metadata": {
        "colab": {
          "base_uri": "https://localhost:8080/"
        },
        "id": "UEDJxW1PtT_C",
        "outputId": "53d97eea-8125-4216-bd71-d52341a4a835"
      },
      "execution_count": null,
      "outputs": [
        {
          "output_type": "execute_result",
          "data": {
            "text/plain": [
              "((7929, 58), (7929,))"
            ]
          },
          "metadata": {},
          "execution_count": 104
        }
      ]
    },
    {
      "cell_type": "markdown",
      "source": [
        "<h3>Now we'll normalize only X_train and X_test and not Y_train and Y_test because they denote the target. We want to predict that.</h3>"
      ],
      "metadata": {
        "id": "FDwnFkKqt0E8"
      }
    },
    {
      "cell_type": "code",
      "source": [
        "for col in X_train.columns:\n",
        "  X_train[col] = z_score_normalization(X_train[col])"
      ],
      "metadata": {
        "id": "bncb7X0ArylQ"
      },
      "execution_count": null,
      "outputs": []
    },
    {
      "cell_type": "code",
      "source": [
        "for col in X_test.columns:\n",
        "  X_test[col] = z_score_normalization(X_test[col])"
      ],
      "metadata": {
        "id": "ASJ2dIE8jUIn"
      },
      "execution_count": null,
      "outputs": []
    },
    {
      "cell_type": "code",
      "source": [
        "X_train.max()"
      ],
      "metadata": {
        "colab": {
          "base_uri": "https://localhost:8080/"
        },
        "id": "Lbq-iN5er_4A",
        "outputId": "a59be936-368d-460b-9e88-9b190fc94172"
      },
      "execution_count": null,
      "outputs": [
        {
          "output_type": "execute_result",
          "data": {
            "text/plain": [
              " n_tokens_title                    5.959543\n",
              " n_tokens_content                 16.759210\n",
              " n_unique_tokens                   3.426705\n",
              " n_non_stop_words                  0.175152\n",
              " n_non_stop_unique_tokens          2.125187\n",
              " num_hrefs                        25.919020\n",
              " num_self_hrefs                   18.408887\n",
              " num_imgs                         14.901415\n",
              " num_videos                       21.493758\n",
              " average_token_length              4.142396\n",
              " num_keywords                      1.452063\n",
              " data_channel_is_lifestyle         4.226907\n",
              " data_channel_is_entertainment     2.152955\n",
              " data_channel_is_bus               2.313966\n",
              " data_channel_is_socmed            3.974695\n",
              " data_channel_is_tech              2.082003\n",
              " data_channel_is_world             1.928053\n",
              " kw_min_min                        5.049920\n",
              " kw_max_min                       72.819261\n",
              " kw_avg_min                       65.120596\n",
              " kw_min_max                       14.636137\n",
              " kw_max_max                        0.423488\n",
              " kw_avg_max                        4.331018\n",
              " kw_min_avg                        2.196689\n",
              " kw_max_avg                       46.142845\n",
              " kw_avg_avg                       30.112447\n",
              " self_reference_min_shares        41.838506\n",
              " self_reference_max_shares        20.229171\n",
              " self_reference_avg_sharess       33.991524\n",
              " weekday_is_monday                 2.212460\n",
              " weekday_is_tuesday                2.095898\n",
              " weekday_is_wednesday              2.089576\n",
              " weekday_is_thursday               2.117364\n",
              " weekday_is_friday                 2.438111\n",
              " weekday_is_saturday               3.871096\n",
              " weekday_is_sunday                 3.654747\n",
              " is_weekend                        2.561991\n",
              " LDA_00                            2.830316\n",
              " LDA_01                            3.574304\n",
              " LDA_02                            2.501587\n",
              " LDA_03                            2.390681\n",
              " LDA_04                            2.378336\n",
              " global_subjectivity               4.770710\n",
              " global_sentiment_polarity         6.282645\n",
              " global_rate_positive_words        6.652447\n",
              " global_rate_negative_words       15.531183\n",
              " rate_positive_words               1.666459\n",
              " rate_negative_words               4.557110\n",
              " avg_positive_polarity             6.194474\n",
              " min_positive_polarity            12.669068\n",
              " max_positive_polarity             0.981994\n",
              " avg_negative_polarity             2.030462\n",
              " min_negative_polarity             1.796689\n",
              " max_negative_polarity             1.130989\n",
              " title_subjectivity                2.220188\n",
              " title_sentiment_polarity          3.503297\n",
              " abs_title_subjectivity            0.837316\n",
              " abs_title_sentiment_polarity      3.735858\n",
              "dtype: float64"
            ]
          },
          "metadata": {},
          "execution_count": 107
        }
      ]
    },
    {
      "cell_type": "markdown",
      "source": [
        "<h3>We have successfully scaled our feature matrix. By doing this we have eliminated any bias towards any specific feature. No feature will have unnecessary advantage over any other feature.</h3>"
      ],
      "metadata": {
        "id": "rpd2T_vvw40C"
      }
    },
    {
      "cell_type": "code",
      "source": [
        "X_train.min()"
      ],
      "metadata": {
        "id": "8_flh-gdvuR2",
        "colab": {
          "base_uri": "https://localhost:8080/"
        },
        "outputId": "2a871c66-bfab-424b-c0d2-7d5cbb5c0c6f"
      },
      "execution_count": null,
      "outputs": [
        {
          "output_type": "execute_result",
          "data": {
            "text/plain": [
              " n_tokens_title                  -3.971637\n",
              " n_tokens_content                -1.153493\n",
              " n_unique_tokens                 -3.874095\n",
              " n_non_stop_words                -5.709326\n",
              " n_non_stop_unique_tokens        -4.372390\n",
              " num_hrefs                       -0.958922\n",
              " num_self_hrefs                  -0.857515\n",
              " num_imgs                        -0.545315\n",
              " num_videos                      -0.302352\n",
              " average_token_length            -5.391971\n",
              " num_keywords                    -3.263391\n",
              " data_channel_is_lifestyle       -0.236580\n",
              " data_channel_is_entertainment   -0.464478\n",
              " data_channel_is_bus             -0.432158\n",
              " data_channel_is_socmed          -0.251592\n",
              " data_channel_is_tech            -0.480307\n",
              " data_channel_is_world           -0.518658\n",
              " kw_min_min                      -0.388574\n",
              " kw_max_min                      -0.283726\n",
              " kw_avg_min                      -0.480284\n",
              " kw_min_max                      -0.236312\n",
              " kw_max_max                      -3.521092\n",
              " kw_avg_max                      -1.922825\n",
              " kw_min_avg                      -0.984553\n",
              " kw_max_avg                      -0.894486\n",
              " kw_avg_avg                      -2.336635\n",
              " self_reference_min_shares       -0.199772\n",
              " self_reference_max_shares       -0.251202\n",
              " self_reference_avg_sharess      -0.261392\n",
              " weekday_is_monday               -0.451985\n",
              " weekday_is_tuesday              -0.477122\n",
              " weekday_is_wednesday            -0.478566\n",
              " weekday_is_thursday             -0.472285\n",
              " weekday_is_friday               -0.410154\n",
              " weekday_is_saturday             -0.258325\n",
              " weekday_is_sunday               -0.273617\n",
              " is_weekend                      -0.390321\n",
              " LDA_00                          -0.633093\n",
              " LDA_01                          -0.559551\n",
              " LDA_02                          -0.701980\n",
              " LDA_03                          -0.694689\n",
              " LDA_04                          -0.750136\n",
              " global_subjectivity             -3.798859\n",
              " global_sentiment_polarity       -5.299997\n",
              " global_rate_positive_words      -2.277092\n",
              " global_rate_negative_words      -1.530205\n",
              " rate_positive_words             -3.584915\n",
              " rate_negative_words             -1.838353\n",
              " avg_positive_polarity           -3.389211\n",
              " min_positive_polarity           -1.336282\n",
              " max_positive_polarity           -3.053116\n",
              " avg_negative_polarity           -5.799502\n",
              " min_negative_polarity           -1.649151\n",
              " max_negative_polarity           -9.381159\n",
              " title_subjectivity              -0.869321\n",
              " title_sentiment_polarity        -4.050178\n",
              " abs_title_subjectivity          -1.811747\n",
              " abs_title_sentiment_polarity    -0.689815\n",
              "dtype: float64"
            ]
          },
          "metadata": {},
          "execution_count": 108
        }
      ]
    },
    {
      "cell_type": "code",
      "source": [
        "X_train.describe()"
      ],
      "metadata": {
        "id": "2uQva_Fdvwo7",
        "colab": {
          "base_uri": "https://localhost:8080/",
          "height": 436
        },
        "outputId": "0c09dc62-46d9-4a10-f6b1-4694b8473de4"
      },
      "execution_count": null,
      "outputs": [
        {
          "output_type": "execute_result",
          "data": {
            "text/plain": [
              "        n_tokens_title   n_tokens_content   n_unique_tokens  \\\n",
              "count     3.171500e+04       3.171500e+04      3.171500e+04   \n",
              "mean     -4.167143e-16      -2.957327e-17     -3.808679e-17   \n",
              "std       1.000016e+00       1.000016e+00      1.000016e+00   \n",
              "min      -3.971637e+00      -1.153493e+00     -3.874095e+00   \n",
              "25%      -6.612436e-01      -6.334878e-01     -4.340571e-01   \n",
              "50%      -1.883303e-01      -2.889314e-01      6.298561e-02   \n",
              "75%       7.574963e-01       3.536768e-01      5.677331e-01   \n",
              "max       5.959543e+00       1.675921e+01      3.426705e+00   \n",
              "\n",
              "        n_non_stop_words   n_non_stop_unique_tokens     num_hrefs  \\\n",
              "count       3.171500e+04               3.171500e+04  3.171500e+04   \n",
              "mean       -4.682435e-16              -3.781795e-16 -6.373937e-17   \n",
              "std         1.000016e+00               1.000016e+00  1.000016e+00   \n",
              "min        -5.709326e+00              -4.372390e+00 -9.589221e-01   \n",
              "25%         1.751520e-01              -3.058017e-01 -6.052650e-01   \n",
              "50%         1.751520e-01               1.165686e-01 -3.400221e-01   \n",
              "75%         1.751521e-01               5.302209e-01  1.904636e-01   \n",
              "max         1.751521e-01               2.125187e+00  2.591902e+01   \n",
              "\n",
              "        num_self_hrefs      num_imgs    num_videos   average_token_length  \\\n",
              "count     3.171500e+04  3.171500e+04  3.171500e+04           3.171500e+04   \n",
              "mean     -1.165008e-17  3.562235e-17  3.584639e-18           1.028343e-15   \n",
              "std       1.000016e+00  1.000016e+00  1.000016e+00           1.000016e+00   \n",
              "min      -8.575150e-01 -5.453150e-01 -3.023519e-01          -5.391971e+00   \n",
              "25%      -5.971582e-01 -4.246374e-01 -3.023519e-01          -8.208067e-02   \n",
              "50%      -7.644466e-02 -4.246374e-01 -3.023519e-01           1.371619e-01   \n",
              "75%       1.839121e-01 -6.260471e-02 -6.283422e-02           3.628533e-01   \n",
              "max       1.840889e+01  1.490142e+01  2.149376e+01           4.142396e+00   \n",
              "\n",
              "       ...   avg_positive_polarity   min_positive_polarity  \\\n",
              "count  ...            3.171500e+04            3.171500e+04   \n",
              "mean   ...           -1.998436e-16            5.914655e-17   \n",
              "std    ...            1.000016e+00            1.000016e+00   \n",
              "min    ...           -3.389211e+00           -1.336282e+00   \n",
              "25%    ...           -4.564728e-01           -6.360141e-01   \n",
              "50%    ...            5.128136e-02            6.425338e-02   \n",
              "75%    ...            5.546965e-01            6.425338e-02   \n",
              "max    ...            6.194474e+00            1.266907e+01   \n",
              "\n",
              "        max_positive_polarity   avg_negative_polarity   min_negative_polarity  \\\n",
              "count            3.171500e+04            3.171500e+04            3.171500e+04   \n",
              "mean             2.804980e-16            1.926744e-17            9.118426e-17   \n",
              "std              1.000016e+00            1.000016e+00            1.000016e+00   \n",
              "min             -3.053116e+00           -5.799502e+00           -1.649151e+00   \n",
              "25%             -6.320499e-01           -5.388358e-01           -6.153989e-01   \n",
              "50%              1.749723e-01            4.517920e-02            7.376909e-02   \n",
              "75%              9.819944e-01            5.710851e-01            7.629371e-01   \n",
              "max              9.819944e-01            2.030462e+00            1.796689e+00   \n",
              "\n",
              "        max_negative_polarity   title_subjectivity   title_sentiment_polarity  \\\n",
              "count            3.171500e+04         3.171500e+04               3.171500e+04   \n",
              "mean             1.321836e-16        -2.621268e-17               4.122335e-17   \n",
              "std              1.000016e+00         1.000016e+00               1.000016e+00   \n",
              "min             -9.381159e+00        -8.693209e-01              -4.050178e+00   \n",
              "25%             -1.830298e-01        -8.693209e-01              -2.734405e-01   \n",
              "50%              7.977386e-02        -4.573865e-01              -2.734405e-01   \n",
              "75%              6.053813e-01         6.754333e-01               2.930701e-01   \n",
              "max              1.130989e+00         2.220188e+00               3.503297e+00   \n",
              "\n",
              "        abs_title_subjectivity   abs_title_sentiment_polarity  \n",
              "count             3.171500e+04                   3.171500e+04  \n",
              "mean             -1.657896e-17                  -1.052988e-16  \n",
              "std               1.000016e+00                   1.000016e+00  \n",
              "min              -1.811747e+00                  -6.898146e-01  \n",
              "25%              -9.287256e-01                  -6.898146e-01  \n",
              "50%               8.373164e-01                  -6.898146e-01  \n",
              "75%               8.373164e-01                   4.166036e-01  \n",
              "max               8.373164e-01                   3.735858e+00  \n",
              "\n",
              "[8 rows x 58 columns]"
            ],
            "text/html": [
              "\n",
              "  <div id=\"df-27332c55-af81-4a96-b05f-c74c09b6a966\" class=\"colab-df-container\">\n",
              "    <div>\n",
              "<style scoped>\n",
              "    .dataframe tbody tr th:only-of-type {\n",
              "        vertical-align: middle;\n",
              "    }\n",
              "\n",
              "    .dataframe tbody tr th {\n",
              "        vertical-align: top;\n",
              "    }\n",
              "\n",
              "    .dataframe thead th {\n",
              "        text-align: right;\n",
              "    }\n",
              "</style>\n",
              "<table border=\"1\" class=\"dataframe\">\n",
              "  <thead>\n",
              "    <tr style=\"text-align: right;\">\n",
              "      <th></th>\n",
              "      <th>n_tokens_title</th>\n",
              "      <th>n_tokens_content</th>\n",
              "      <th>n_unique_tokens</th>\n",
              "      <th>n_non_stop_words</th>\n",
              "      <th>n_non_stop_unique_tokens</th>\n",
              "      <th>num_hrefs</th>\n",
              "      <th>num_self_hrefs</th>\n",
              "      <th>num_imgs</th>\n",
              "      <th>num_videos</th>\n",
              "      <th>average_token_length</th>\n",
              "      <th>...</th>\n",
              "      <th>avg_positive_polarity</th>\n",
              "      <th>min_positive_polarity</th>\n",
              "      <th>max_positive_polarity</th>\n",
              "      <th>avg_negative_polarity</th>\n",
              "      <th>min_negative_polarity</th>\n",
              "      <th>max_negative_polarity</th>\n",
              "      <th>title_subjectivity</th>\n",
              "      <th>title_sentiment_polarity</th>\n",
              "      <th>abs_title_subjectivity</th>\n",
              "      <th>abs_title_sentiment_polarity</th>\n",
              "    </tr>\n",
              "  </thead>\n",
              "  <tbody>\n",
              "    <tr>\n",
              "      <th>count</th>\n",
              "      <td>3.171500e+04</td>\n",
              "      <td>3.171500e+04</td>\n",
              "      <td>3.171500e+04</td>\n",
              "      <td>3.171500e+04</td>\n",
              "      <td>3.171500e+04</td>\n",
              "      <td>3.171500e+04</td>\n",
              "      <td>3.171500e+04</td>\n",
              "      <td>3.171500e+04</td>\n",
              "      <td>3.171500e+04</td>\n",
              "      <td>3.171500e+04</td>\n",
              "      <td>...</td>\n",
              "      <td>3.171500e+04</td>\n",
              "      <td>3.171500e+04</td>\n",
              "      <td>3.171500e+04</td>\n",
              "      <td>3.171500e+04</td>\n",
              "      <td>3.171500e+04</td>\n",
              "      <td>3.171500e+04</td>\n",
              "      <td>3.171500e+04</td>\n",
              "      <td>3.171500e+04</td>\n",
              "      <td>3.171500e+04</td>\n",
              "      <td>3.171500e+04</td>\n",
              "    </tr>\n",
              "    <tr>\n",
              "      <th>mean</th>\n",
              "      <td>-4.167143e-16</td>\n",
              "      <td>-2.957327e-17</td>\n",
              "      <td>-3.808679e-17</td>\n",
              "      <td>-4.682435e-16</td>\n",
              "      <td>-3.781795e-16</td>\n",
              "      <td>-6.373937e-17</td>\n",
              "      <td>-1.165008e-17</td>\n",
              "      <td>3.562235e-17</td>\n",
              "      <td>3.584639e-18</td>\n",
              "      <td>1.028343e-15</td>\n",
              "      <td>...</td>\n",
              "      <td>-1.998436e-16</td>\n",
              "      <td>5.914655e-17</td>\n",
              "      <td>2.804980e-16</td>\n",
              "      <td>1.926744e-17</td>\n",
              "      <td>9.118426e-17</td>\n",
              "      <td>1.321836e-16</td>\n",
              "      <td>-2.621268e-17</td>\n",
              "      <td>4.122335e-17</td>\n",
              "      <td>-1.657896e-17</td>\n",
              "      <td>-1.052988e-16</td>\n",
              "    </tr>\n",
              "    <tr>\n",
              "      <th>std</th>\n",
              "      <td>1.000016e+00</td>\n",
              "      <td>1.000016e+00</td>\n",
              "      <td>1.000016e+00</td>\n",
              "      <td>1.000016e+00</td>\n",
              "      <td>1.000016e+00</td>\n",
              "      <td>1.000016e+00</td>\n",
              "      <td>1.000016e+00</td>\n",
              "      <td>1.000016e+00</td>\n",
              "      <td>1.000016e+00</td>\n",
              "      <td>1.000016e+00</td>\n",
              "      <td>...</td>\n",
              "      <td>1.000016e+00</td>\n",
              "      <td>1.000016e+00</td>\n",
              "      <td>1.000016e+00</td>\n",
              "      <td>1.000016e+00</td>\n",
              "      <td>1.000016e+00</td>\n",
              "      <td>1.000016e+00</td>\n",
              "      <td>1.000016e+00</td>\n",
              "      <td>1.000016e+00</td>\n",
              "      <td>1.000016e+00</td>\n",
              "      <td>1.000016e+00</td>\n",
              "    </tr>\n",
              "    <tr>\n",
              "      <th>min</th>\n",
              "      <td>-3.971637e+00</td>\n",
              "      <td>-1.153493e+00</td>\n",
              "      <td>-3.874095e+00</td>\n",
              "      <td>-5.709326e+00</td>\n",
              "      <td>-4.372390e+00</td>\n",
              "      <td>-9.589221e-01</td>\n",
              "      <td>-8.575150e-01</td>\n",
              "      <td>-5.453150e-01</td>\n",
              "      <td>-3.023519e-01</td>\n",
              "      <td>-5.391971e+00</td>\n",
              "      <td>...</td>\n",
              "      <td>-3.389211e+00</td>\n",
              "      <td>-1.336282e+00</td>\n",
              "      <td>-3.053116e+00</td>\n",
              "      <td>-5.799502e+00</td>\n",
              "      <td>-1.649151e+00</td>\n",
              "      <td>-9.381159e+00</td>\n",
              "      <td>-8.693209e-01</td>\n",
              "      <td>-4.050178e+00</td>\n",
              "      <td>-1.811747e+00</td>\n",
              "      <td>-6.898146e-01</td>\n",
              "    </tr>\n",
              "    <tr>\n",
              "      <th>25%</th>\n",
              "      <td>-6.612436e-01</td>\n",
              "      <td>-6.334878e-01</td>\n",
              "      <td>-4.340571e-01</td>\n",
              "      <td>1.751520e-01</td>\n",
              "      <td>-3.058017e-01</td>\n",
              "      <td>-6.052650e-01</td>\n",
              "      <td>-5.971582e-01</td>\n",
              "      <td>-4.246374e-01</td>\n",
              "      <td>-3.023519e-01</td>\n",
              "      <td>-8.208067e-02</td>\n",
              "      <td>...</td>\n",
              "      <td>-4.564728e-01</td>\n",
              "      <td>-6.360141e-01</td>\n",
              "      <td>-6.320499e-01</td>\n",
              "      <td>-5.388358e-01</td>\n",
              "      <td>-6.153989e-01</td>\n",
              "      <td>-1.830298e-01</td>\n",
              "      <td>-8.693209e-01</td>\n",
              "      <td>-2.734405e-01</td>\n",
              "      <td>-9.287256e-01</td>\n",
              "      <td>-6.898146e-01</td>\n",
              "    </tr>\n",
              "    <tr>\n",
              "      <th>50%</th>\n",
              "      <td>-1.883303e-01</td>\n",
              "      <td>-2.889314e-01</td>\n",
              "      <td>6.298561e-02</td>\n",
              "      <td>1.751520e-01</td>\n",
              "      <td>1.165686e-01</td>\n",
              "      <td>-3.400221e-01</td>\n",
              "      <td>-7.644466e-02</td>\n",
              "      <td>-4.246374e-01</td>\n",
              "      <td>-3.023519e-01</td>\n",
              "      <td>1.371619e-01</td>\n",
              "      <td>...</td>\n",
              "      <td>5.128136e-02</td>\n",
              "      <td>6.425338e-02</td>\n",
              "      <td>1.749723e-01</td>\n",
              "      <td>4.517920e-02</td>\n",
              "      <td>7.376909e-02</td>\n",
              "      <td>7.977386e-02</td>\n",
              "      <td>-4.573865e-01</td>\n",
              "      <td>-2.734405e-01</td>\n",
              "      <td>8.373164e-01</td>\n",
              "      <td>-6.898146e-01</td>\n",
              "    </tr>\n",
              "    <tr>\n",
              "      <th>75%</th>\n",
              "      <td>7.574963e-01</td>\n",
              "      <td>3.536768e-01</td>\n",
              "      <td>5.677331e-01</td>\n",
              "      <td>1.751521e-01</td>\n",
              "      <td>5.302209e-01</td>\n",
              "      <td>1.904636e-01</td>\n",
              "      <td>1.839121e-01</td>\n",
              "      <td>-6.260471e-02</td>\n",
              "      <td>-6.283422e-02</td>\n",
              "      <td>3.628533e-01</td>\n",
              "      <td>...</td>\n",
              "      <td>5.546965e-01</td>\n",
              "      <td>6.425338e-02</td>\n",
              "      <td>9.819944e-01</td>\n",
              "      <td>5.710851e-01</td>\n",
              "      <td>7.629371e-01</td>\n",
              "      <td>6.053813e-01</td>\n",
              "      <td>6.754333e-01</td>\n",
              "      <td>2.930701e-01</td>\n",
              "      <td>8.373164e-01</td>\n",
              "      <td>4.166036e-01</td>\n",
              "    </tr>\n",
              "    <tr>\n",
              "      <th>max</th>\n",
              "      <td>5.959543e+00</td>\n",
              "      <td>1.675921e+01</td>\n",
              "      <td>3.426705e+00</td>\n",
              "      <td>1.751521e-01</td>\n",
              "      <td>2.125187e+00</td>\n",
              "      <td>2.591902e+01</td>\n",
              "      <td>1.840889e+01</td>\n",
              "      <td>1.490142e+01</td>\n",
              "      <td>2.149376e+01</td>\n",
              "      <td>4.142396e+00</td>\n",
              "      <td>...</td>\n",
              "      <td>6.194474e+00</td>\n",
              "      <td>1.266907e+01</td>\n",
              "      <td>9.819944e-01</td>\n",
              "      <td>2.030462e+00</td>\n",
              "      <td>1.796689e+00</td>\n",
              "      <td>1.130989e+00</td>\n",
              "      <td>2.220188e+00</td>\n",
              "      <td>3.503297e+00</td>\n",
              "      <td>8.373164e-01</td>\n",
              "      <td>3.735858e+00</td>\n",
              "    </tr>\n",
              "  </tbody>\n",
              "</table>\n",
              "<p>8 rows × 58 columns</p>\n",
              "</div>\n",
              "    <div class=\"colab-df-buttons\">\n",
              "\n",
              "  <div class=\"colab-df-container\">\n",
              "    <button class=\"colab-df-convert\" onclick=\"convertToInteractive('df-27332c55-af81-4a96-b05f-c74c09b6a966')\"\n",
              "            title=\"Convert this dataframe to an interactive table.\"\n",
              "            style=\"display:none;\">\n",
              "\n",
              "  <svg xmlns=\"http://www.w3.org/2000/svg\" height=\"24px\" viewBox=\"0 -960 960 960\">\n",
              "    <path d=\"M120-120v-720h720v720H120Zm60-500h600v-160H180v160Zm220 220h160v-160H400v160Zm0 220h160v-160H400v160ZM180-400h160v-160H180v160Zm440 0h160v-160H620v160ZM180-180h160v-160H180v160Zm440 0h160v-160H620v160Z\"/>\n",
              "  </svg>\n",
              "    </button>\n",
              "\n",
              "  <style>\n",
              "    .colab-df-container {\n",
              "      display:flex;\n",
              "      gap: 12px;\n",
              "    }\n",
              "\n",
              "    .colab-df-convert {\n",
              "      background-color: #E8F0FE;\n",
              "      border: none;\n",
              "      border-radius: 50%;\n",
              "      cursor: pointer;\n",
              "      display: none;\n",
              "      fill: #1967D2;\n",
              "      height: 32px;\n",
              "      padding: 0 0 0 0;\n",
              "      width: 32px;\n",
              "    }\n",
              "\n",
              "    .colab-df-convert:hover {\n",
              "      background-color: #E2EBFA;\n",
              "      box-shadow: 0px 1px 2px rgba(60, 64, 67, 0.3), 0px 1px 3px 1px rgba(60, 64, 67, 0.15);\n",
              "      fill: #174EA6;\n",
              "    }\n",
              "\n",
              "    .colab-df-buttons div {\n",
              "      margin-bottom: 4px;\n",
              "    }\n",
              "\n",
              "    [theme=dark] .colab-df-convert {\n",
              "      background-color: #3B4455;\n",
              "      fill: #D2E3FC;\n",
              "    }\n",
              "\n",
              "    [theme=dark] .colab-df-convert:hover {\n",
              "      background-color: #434B5C;\n",
              "      box-shadow: 0px 1px 3px 1px rgba(0, 0, 0, 0.15);\n",
              "      filter: drop-shadow(0px 1px 2px rgba(0, 0, 0, 0.3));\n",
              "      fill: #FFFFFF;\n",
              "    }\n",
              "  </style>\n",
              "\n",
              "    <script>\n",
              "      const buttonEl =\n",
              "        document.querySelector('#df-27332c55-af81-4a96-b05f-c74c09b6a966 button.colab-df-convert');\n",
              "      buttonEl.style.display =\n",
              "        google.colab.kernel.accessAllowed ? 'block' : 'none';\n",
              "\n",
              "      async function convertToInteractive(key) {\n",
              "        const element = document.querySelector('#df-27332c55-af81-4a96-b05f-c74c09b6a966');\n",
              "        const dataTable =\n",
              "          await google.colab.kernel.invokeFunction('convertToInteractive',\n",
              "                                                    [key], {});\n",
              "        if (!dataTable) return;\n",
              "\n",
              "        const docLinkHtml = 'Like what you see? Visit the ' +\n",
              "          '<a target=\"_blank\" href=https://colab.research.google.com/notebooks/data_table.ipynb>data table notebook</a>'\n",
              "          + ' to learn more about interactive tables.';\n",
              "        element.innerHTML = '';\n",
              "        dataTable['output_type'] = 'display_data';\n",
              "        await google.colab.output.renderOutput(dataTable, element);\n",
              "        const docLink = document.createElement('div');\n",
              "        docLink.innerHTML = docLinkHtml;\n",
              "        element.appendChild(docLink);\n",
              "      }\n",
              "    </script>\n",
              "  </div>\n",
              "\n",
              "\n",
              "<div id=\"df-d0224ebf-387d-4366-8695-6a14c0413a1b\">\n",
              "  <button class=\"colab-df-quickchart\" onclick=\"quickchart('df-d0224ebf-387d-4366-8695-6a14c0413a1b')\"\n",
              "            title=\"Suggest charts\"\n",
              "            style=\"display:none;\">\n",
              "\n",
              "<svg xmlns=\"http://www.w3.org/2000/svg\" height=\"24px\"viewBox=\"0 0 24 24\"\n",
              "     width=\"24px\">\n",
              "    <g>\n",
              "        <path d=\"M19 3H5c-1.1 0-2 .9-2 2v14c0 1.1.9 2 2 2h14c1.1 0 2-.9 2-2V5c0-1.1-.9-2-2-2zM9 17H7v-7h2v7zm4 0h-2V7h2v10zm4 0h-2v-4h2v4z\"/>\n",
              "    </g>\n",
              "</svg>\n",
              "  </button>\n",
              "\n",
              "<style>\n",
              "  .colab-df-quickchart {\n",
              "      --bg-color: #E8F0FE;\n",
              "      --fill-color: #1967D2;\n",
              "      --hover-bg-color: #E2EBFA;\n",
              "      --hover-fill-color: #174EA6;\n",
              "      --disabled-fill-color: #AAA;\n",
              "      --disabled-bg-color: #DDD;\n",
              "  }\n",
              "\n",
              "  [theme=dark] .colab-df-quickchart {\n",
              "      --bg-color: #3B4455;\n",
              "      --fill-color: #D2E3FC;\n",
              "      --hover-bg-color: #434B5C;\n",
              "      --hover-fill-color: #FFFFFF;\n",
              "      --disabled-bg-color: #3B4455;\n",
              "      --disabled-fill-color: #666;\n",
              "  }\n",
              "\n",
              "  .colab-df-quickchart {\n",
              "    background-color: var(--bg-color);\n",
              "    border: none;\n",
              "    border-radius: 50%;\n",
              "    cursor: pointer;\n",
              "    display: none;\n",
              "    fill: var(--fill-color);\n",
              "    height: 32px;\n",
              "    padding: 0;\n",
              "    width: 32px;\n",
              "  }\n",
              "\n",
              "  .colab-df-quickchart:hover {\n",
              "    background-color: var(--hover-bg-color);\n",
              "    box-shadow: 0 1px 2px rgba(60, 64, 67, 0.3), 0 1px 3px 1px rgba(60, 64, 67, 0.15);\n",
              "    fill: var(--button-hover-fill-color);\n",
              "  }\n",
              "\n",
              "  .colab-df-quickchart-complete:disabled,\n",
              "  .colab-df-quickchart-complete:disabled:hover {\n",
              "    background-color: var(--disabled-bg-color);\n",
              "    fill: var(--disabled-fill-color);\n",
              "    box-shadow: none;\n",
              "  }\n",
              "\n",
              "  .colab-df-spinner {\n",
              "    border: 2px solid var(--fill-color);\n",
              "    border-color: transparent;\n",
              "    border-bottom-color: var(--fill-color);\n",
              "    animation:\n",
              "      spin 1s steps(1) infinite;\n",
              "  }\n",
              "\n",
              "  @keyframes spin {\n",
              "    0% {\n",
              "      border-color: transparent;\n",
              "      border-bottom-color: var(--fill-color);\n",
              "      border-left-color: var(--fill-color);\n",
              "    }\n",
              "    20% {\n",
              "      border-color: transparent;\n",
              "      border-left-color: var(--fill-color);\n",
              "      border-top-color: var(--fill-color);\n",
              "    }\n",
              "    30% {\n",
              "      border-color: transparent;\n",
              "      border-left-color: var(--fill-color);\n",
              "      border-top-color: var(--fill-color);\n",
              "      border-right-color: var(--fill-color);\n",
              "    }\n",
              "    40% {\n",
              "      border-color: transparent;\n",
              "      border-right-color: var(--fill-color);\n",
              "      border-top-color: var(--fill-color);\n",
              "    }\n",
              "    60% {\n",
              "      border-color: transparent;\n",
              "      border-right-color: var(--fill-color);\n",
              "    }\n",
              "    80% {\n",
              "      border-color: transparent;\n",
              "      border-right-color: var(--fill-color);\n",
              "      border-bottom-color: var(--fill-color);\n",
              "    }\n",
              "    90% {\n",
              "      border-color: transparent;\n",
              "      border-bottom-color: var(--fill-color);\n",
              "    }\n",
              "  }\n",
              "</style>\n",
              "\n",
              "  <script>\n",
              "    async function quickchart(key) {\n",
              "      const quickchartButtonEl =\n",
              "        document.querySelector('#' + key + ' button');\n",
              "      quickchartButtonEl.disabled = true;  // To prevent multiple clicks.\n",
              "      quickchartButtonEl.classList.add('colab-df-spinner');\n",
              "      try {\n",
              "        const charts = await google.colab.kernel.invokeFunction(\n",
              "            'suggestCharts', [key], {});\n",
              "      } catch (error) {\n",
              "        console.error('Error during call to suggestCharts:', error);\n",
              "      }\n",
              "      quickchartButtonEl.classList.remove('colab-df-spinner');\n",
              "      quickchartButtonEl.classList.add('colab-df-quickchart-complete');\n",
              "    }\n",
              "    (() => {\n",
              "      let quickchartButtonEl =\n",
              "        document.querySelector('#df-d0224ebf-387d-4366-8695-6a14c0413a1b button');\n",
              "      quickchartButtonEl.style.display =\n",
              "        google.colab.kernel.accessAllowed ? 'block' : 'none';\n",
              "    })();\n",
              "  </script>\n",
              "</div>\n",
              "\n",
              "    </div>\n",
              "  </div>\n"
            ]
          },
          "metadata": {},
          "execution_count": 109
        }
      ]
    },
    {
      "cell_type": "code",
      "source": [
        "# We are doing this because we want the shape of the input features to be (n_x, m) where n_x denotes the number of features and m denotes the number of training examples.\n",
        "X_train = X_train.T\n",
        "X_train.shape"
      ],
      "metadata": {
        "colab": {
          "base_uri": "https://localhost:8080/"
        },
        "id": "lpSGjnoWd5N1",
        "outputId": "4f71ac05-0f6c-4fc8-866a-911d1d276e93"
      },
      "execution_count": null,
      "outputs": [
        {
          "output_type": "execute_result",
          "data": {
            "text/plain": [
              "(58, 31715)"
            ]
          },
          "metadata": {},
          "execution_count": 110
        }
      ]
    },
    {
      "cell_type": "code",
      "source": [
        "X_test = X_test.T\n",
        "X_test.shape"
      ],
      "metadata": {
        "colab": {
          "base_uri": "https://localhost:8080/"
        },
        "id": "M_XbC8kqjuZt",
        "outputId": "a9ce807e-f3ce-4eb6-c2dc-8baf9b1a90ae"
      },
      "execution_count": null,
      "outputs": [
        {
          "output_type": "execute_result",
          "data": {
            "text/plain": [
              "(58, 7929)"
            ]
          },
          "metadata": {},
          "execution_count": 111
        }
      ]
    },
    {
      "cell_type": "code",
      "source": [
        "X_train.head()"
      ],
      "metadata": {
        "colab": {
          "base_uri": "https://localhost:8080/",
          "height": 255
        },
        "id": "r1Ni93XYeEtZ",
        "outputId": "42de1f78-ded0-40dc-d1c7-f6e2c0ae2039"
      },
      "execution_count": null,
      "outputs": [
        {
          "output_type": "execute_result",
          "data": {
            "text/plain": [
              "                              0         1         2         3         4      \\\n",
              " n_tokens_title            1.703323  3.594976 -0.661244  0.284583 -0.188330   \n",
              " n_tokens_content          0.036600 -0.673651 -0.595439 -0.870238 -0.500316   \n",
              " n_unique_tokens           0.395930  0.849952 -0.194952  1.380269  0.144912   \n",
              " n_non_stop_words          0.175152  0.175152  0.175152  0.175152  0.175152   \n",
              " n_non_stop_unique_tokens  0.571831  0.930780 -1.234536  0.869974 -0.074513   \n",
              "\n",
              "                              5         6         7         8         9      \\\n",
              " n_tokens_title            1.230410 -0.661244  0.284583  1.703323 -0.188330   \n",
              " n_tokens_content         -0.817392  3.275007 -0.115596  0.053511  0.858885   \n",
              " n_unique_tokens           0.701073 -1.469126  0.265061  0.324534 -0.525317   \n",
              " n_non_stop_words          0.175152  0.175152  0.175152  0.175152  0.175152   \n",
              " n_non_stop_unique_tokens  0.370841 -1.310732  0.404575  0.079654  0.039249   \n",
              "\n",
              "                           ...     31705     31706     31707     31708  \\\n",
              " n_tokens_title            ...  0.284583 -0.661244 -0.188330 -0.661244   \n",
              " n_tokens_content          ...  0.087333 -0.724383 -0.792026 -0.753977   \n",
              " n_unique_tokens           ... -0.217302  0.740918  1.249273  1.093905   \n",
              " n_non_stop_words          ...  0.175152  0.175152  0.175152  0.175152   \n",
              " n_non_stop_unique_tokens  ...  0.205903  0.609086  1.509627  0.129503   \n",
              "\n",
              "                              31709     31710     31711     31712     31713  \\\n",
              " n_tokens_title           -0.188330 -0.188330  0.284583 -1.607070  1.230410   \n",
              " n_tokens_content         -0.191695 -0.445356  0.732055  0.417092  0.142293   \n",
              " n_unique_tokens          -0.386659 -0.082038 -0.797390 -0.253535 -0.280437   \n",
              " n_non_stop_words          0.175152  0.175152  0.175152  0.175152  0.175152   \n",
              " n_non_stop_unique_tokens -0.625612 -0.096782 -0.915273  0.238794 -0.148965   \n",
              "\n",
              "                              31714  \n",
              " n_tokens_title            0.284583  \n",
              " n_tokens_content          0.023917  \n",
              " n_unique_tokens          -0.210324  \n",
              " n_non_stop_words          0.175152  \n",
              " n_non_stop_unique_tokens -0.053641  \n",
              "\n",
              "[5 rows x 31715 columns]"
            ],
            "text/html": [
              "\n",
              "  <div id=\"df-c2dc65e8-0d65-4265-81f7-59c11a06236b\" class=\"colab-df-container\">\n",
              "    <div>\n",
              "<style scoped>\n",
              "    .dataframe tbody tr th:only-of-type {\n",
              "        vertical-align: middle;\n",
              "    }\n",
              "\n",
              "    .dataframe tbody tr th {\n",
              "        vertical-align: top;\n",
              "    }\n",
              "\n",
              "    .dataframe thead th {\n",
              "        text-align: right;\n",
              "    }\n",
              "</style>\n",
              "<table border=\"1\" class=\"dataframe\">\n",
              "  <thead>\n",
              "    <tr style=\"text-align: right;\">\n",
              "      <th></th>\n",
              "      <th>0</th>\n",
              "      <th>1</th>\n",
              "      <th>2</th>\n",
              "      <th>3</th>\n",
              "      <th>4</th>\n",
              "      <th>5</th>\n",
              "      <th>6</th>\n",
              "      <th>7</th>\n",
              "      <th>8</th>\n",
              "      <th>9</th>\n",
              "      <th>...</th>\n",
              "      <th>31705</th>\n",
              "      <th>31706</th>\n",
              "      <th>31707</th>\n",
              "      <th>31708</th>\n",
              "      <th>31709</th>\n",
              "      <th>31710</th>\n",
              "      <th>31711</th>\n",
              "      <th>31712</th>\n",
              "      <th>31713</th>\n",
              "      <th>31714</th>\n",
              "    </tr>\n",
              "  </thead>\n",
              "  <tbody>\n",
              "    <tr>\n",
              "      <th>n_tokens_title</th>\n",
              "      <td>1.703323</td>\n",
              "      <td>3.594976</td>\n",
              "      <td>-0.661244</td>\n",
              "      <td>0.284583</td>\n",
              "      <td>-0.188330</td>\n",
              "      <td>1.230410</td>\n",
              "      <td>-0.661244</td>\n",
              "      <td>0.284583</td>\n",
              "      <td>1.703323</td>\n",
              "      <td>-0.188330</td>\n",
              "      <td>...</td>\n",
              "      <td>0.284583</td>\n",
              "      <td>-0.661244</td>\n",
              "      <td>-0.188330</td>\n",
              "      <td>-0.661244</td>\n",
              "      <td>-0.188330</td>\n",
              "      <td>-0.188330</td>\n",
              "      <td>0.284583</td>\n",
              "      <td>-1.607070</td>\n",
              "      <td>1.230410</td>\n",
              "      <td>0.284583</td>\n",
              "    </tr>\n",
              "    <tr>\n",
              "      <th>n_tokens_content</th>\n",
              "      <td>0.036600</td>\n",
              "      <td>-0.673651</td>\n",
              "      <td>-0.595439</td>\n",
              "      <td>-0.870238</td>\n",
              "      <td>-0.500316</td>\n",
              "      <td>-0.817392</td>\n",
              "      <td>3.275007</td>\n",
              "      <td>-0.115596</td>\n",
              "      <td>0.053511</td>\n",
              "      <td>0.858885</td>\n",
              "      <td>...</td>\n",
              "      <td>0.087333</td>\n",
              "      <td>-0.724383</td>\n",
              "      <td>-0.792026</td>\n",
              "      <td>-0.753977</td>\n",
              "      <td>-0.191695</td>\n",
              "      <td>-0.445356</td>\n",
              "      <td>0.732055</td>\n",
              "      <td>0.417092</td>\n",
              "      <td>0.142293</td>\n",
              "      <td>0.023917</td>\n",
              "    </tr>\n",
              "    <tr>\n",
              "      <th>n_unique_tokens</th>\n",
              "      <td>0.395930</td>\n",
              "      <td>0.849952</td>\n",
              "      <td>-0.194952</td>\n",
              "      <td>1.380269</td>\n",
              "      <td>0.144912</td>\n",
              "      <td>0.701073</td>\n",
              "      <td>-1.469126</td>\n",
              "      <td>0.265061</td>\n",
              "      <td>0.324534</td>\n",
              "      <td>-0.525317</td>\n",
              "      <td>...</td>\n",
              "      <td>-0.217302</td>\n",
              "      <td>0.740918</td>\n",
              "      <td>1.249273</td>\n",
              "      <td>1.093905</td>\n",
              "      <td>-0.386659</td>\n",
              "      <td>-0.082038</td>\n",
              "      <td>-0.797390</td>\n",
              "      <td>-0.253535</td>\n",
              "      <td>-0.280437</td>\n",
              "      <td>-0.210324</td>\n",
              "    </tr>\n",
              "    <tr>\n",
              "      <th>n_non_stop_words</th>\n",
              "      <td>0.175152</td>\n",
              "      <td>0.175152</td>\n",
              "      <td>0.175152</td>\n",
              "      <td>0.175152</td>\n",
              "      <td>0.175152</td>\n",
              "      <td>0.175152</td>\n",
              "      <td>0.175152</td>\n",
              "      <td>0.175152</td>\n",
              "      <td>0.175152</td>\n",
              "      <td>0.175152</td>\n",
              "      <td>...</td>\n",
              "      <td>0.175152</td>\n",
              "      <td>0.175152</td>\n",
              "      <td>0.175152</td>\n",
              "      <td>0.175152</td>\n",
              "      <td>0.175152</td>\n",
              "      <td>0.175152</td>\n",
              "      <td>0.175152</td>\n",
              "      <td>0.175152</td>\n",
              "      <td>0.175152</td>\n",
              "      <td>0.175152</td>\n",
              "    </tr>\n",
              "    <tr>\n",
              "      <th>n_non_stop_unique_tokens</th>\n",
              "      <td>0.571831</td>\n",
              "      <td>0.930780</td>\n",
              "      <td>-1.234536</td>\n",
              "      <td>0.869974</td>\n",
              "      <td>-0.074513</td>\n",
              "      <td>0.370841</td>\n",
              "      <td>-1.310732</td>\n",
              "      <td>0.404575</td>\n",
              "      <td>0.079654</td>\n",
              "      <td>0.039249</td>\n",
              "      <td>...</td>\n",
              "      <td>0.205903</td>\n",
              "      <td>0.609086</td>\n",
              "      <td>1.509627</td>\n",
              "      <td>0.129503</td>\n",
              "      <td>-0.625612</td>\n",
              "      <td>-0.096782</td>\n",
              "      <td>-0.915273</td>\n",
              "      <td>0.238794</td>\n",
              "      <td>-0.148965</td>\n",
              "      <td>-0.053641</td>\n",
              "    </tr>\n",
              "  </tbody>\n",
              "</table>\n",
              "<p>5 rows × 31715 columns</p>\n",
              "</div>\n",
              "    <div class=\"colab-df-buttons\">\n",
              "\n",
              "  <div class=\"colab-df-container\">\n",
              "    <button class=\"colab-df-convert\" onclick=\"convertToInteractive('df-c2dc65e8-0d65-4265-81f7-59c11a06236b')\"\n",
              "            title=\"Convert this dataframe to an interactive table.\"\n",
              "            style=\"display:none;\">\n",
              "\n",
              "  <svg xmlns=\"http://www.w3.org/2000/svg\" height=\"24px\" viewBox=\"0 -960 960 960\">\n",
              "    <path d=\"M120-120v-720h720v720H120Zm60-500h600v-160H180v160Zm220 220h160v-160H400v160Zm0 220h160v-160H400v160ZM180-400h160v-160H180v160Zm440 0h160v-160H620v160ZM180-180h160v-160H180v160Zm440 0h160v-160H620v160Z\"/>\n",
              "  </svg>\n",
              "    </button>\n",
              "\n",
              "  <style>\n",
              "    .colab-df-container {\n",
              "      display:flex;\n",
              "      gap: 12px;\n",
              "    }\n",
              "\n",
              "    .colab-df-convert {\n",
              "      background-color: #E8F0FE;\n",
              "      border: none;\n",
              "      border-radius: 50%;\n",
              "      cursor: pointer;\n",
              "      display: none;\n",
              "      fill: #1967D2;\n",
              "      height: 32px;\n",
              "      padding: 0 0 0 0;\n",
              "      width: 32px;\n",
              "    }\n",
              "\n",
              "    .colab-df-convert:hover {\n",
              "      background-color: #E2EBFA;\n",
              "      box-shadow: 0px 1px 2px rgba(60, 64, 67, 0.3), 0px 1px 3px 1px rgba(60, 64, 67, 0.15);\n",
              "      fill: #174EA6;\n",
              "    }\n",
              "\n",
              "    .colab-df-buttons div {\n",
              "      margin-bottom: 4px;\n",
              "    }\n",
              "\n",
              "    [theme=dark] .colab-df-convert {\n",
              "      background-color: #3B4455;\n",
              "      fill: #D2E3FC;\n",
              "    }\n",
              "\n",
              "    [theme=dark] .colab-df-convert:hover {\n",
              "      background-color: #434B5C;\n",
              "      box-shadow: 0px 1px 3px 1px rgba(0, 0, 0, 0.15);\n",
              "      filter: drop-shadow(0px 1px 2px rgba(0, 0, 0, 0.3));\n",
              "      fill: #FFFFFF;\n",
              "    }\n",
              "  </style>\n",
              "\n",
              "    <script>\n",
              "      const buttonEl =\n",
              "        document.querySelector('#df-c2dc65e8-0d65-4265-81f7-59c11a06236b button.colab-df-convert');\n",
              "      buttonEl.style.display =\n",
              "        google.colab.kernel.accessAllowed ? 'block' : 'none';\n",
              "\n",
              "      async function convertToInteractive(key) {\n",
              "        const element = document.querySelector('#df-c2dc65e8-0d65-4265-81f7-59c11a06236b');\n",
              "        const dataTable =\n",
              "          await google.colab.kernel.invokeFunction('convertToInteractive',\n",
              "                                                    [key], {});\n",
              "        if (!dataTable) return;\n",
              "\n",
              "        const docLinkHtml = 'Like what you see? Visit the ' +\n",
              "          '<a target=\"_blank\" href=https://colab.research.google.com/notebooks/data_table.ipynb>data table notebook</a>'\n",
              "          + ' to learn more about interactive tables.';\n",
              "        element.innerHTML = '';\n",
              "        dataTable['output_type'] = 'display_data';\n",
              "        await google.colab.output.renderOutput(dataTable, element);\n",
              "        const docLink = document.createElement('div');\n",
              "        docLink.innerHTML = docLinkHtml;\n",
              "        element.appendChild(docLink);\n",
              "      }\n",
              "    </script>\n",
              "  </div>\n",
              "\n",
              "\n",
              "<div id=\"df-4ace74b5-8381-42eb-acc7-d7d4569f59fd\">\n",
              "  <button class=\"colab-df-quickchart\" onclick=\"quickchart('df-4ace74b5-8381-42eb-acc7-d7d4569f59fd')\"\n",
              "            title=\"Suggest charts\"\n",
              "            style=\"display:none;\">\n",
              "\n",
              "<svg xmlns=\"http://www.w3.org/2000/svg\" height=\"24px\"viewBox=\"0 0 24 24\"\n",
              "     width=\"24px\">\n",
              "    <g>\n",
              "        <path d=\"M19 3H5c-1.1 0-2 .9-2 2v14c0 1.1.9 2 2 2h14c1.1 0 2-.9 2-2V5c0-1.1-.9-2-2-2zM9 17H7v-7h2v7zm4 0h-2V7h2v10zm4 0h-2v-4h2v4z\"/>\n",
              "    </g>\n",
              "</svg>\n",
              "  </button>\n",
              "\n",
              "<style>\n",
              "  .colab-df-quickchart {\n",
              "      --bg-color: #E8F0FE;\n",
              "      --fill-color: #1967D2;\n",
              "      --hover-bg-color: #E2EBFA;\n",
              "      --hover-fill-color: #174EA6;\n",
              "      --disabled-fill-color: #AAA;\n",
              "      --disabled-bg-color: #DDD;\n",
              "  }\n",
              "\n",
              "  [theme=dark] .colab-df-quickchart {\n",
              "      --bg-color: #3B4455;\n",
              "      --fill-color: #D2E3FC;\n",
              "      --hover-bg-color: #434B5C;\n",
              "      --hover-fill-color: #FFFFFF;\n",
              "      --disabled-bg-color: #3B4455;\n",
              "      --disabled-fill-color: #666;\n",
              "  }\n",
              "\n",
              "  .colab-df-quickchart {\n",
              "    background-color: var(--bg-color);\n",
              "    border: none;\n",
              "    border-radius: 50%;\n",
              "    cursor: pointer;\n",
              "    display: none;\n",
              "    fill: var(--fill-color);\n",
              "    height: 32px;\n",
              "    padding: 0;\n",
              "    width: 32px;\n",
              "  }\n",
              "\n",
              "  .colab-df-quickchart:hover {\n",
              "    background-color: var(--hover-bg-color);\n",
              "    box-shadow: 0 1px 2px rgba(60, 64, 67, 0.3), 0 1px 3px 1px rgba(60, 64, 67, 0.15);\n",
              "    fill: var(--button-hover-fill-color);\n",
              "  }\n",
              "\n",
              "  .colab-df-quickchart-complete:disabled,\n",
              "  .colab-df-quickchart-complete:disabled:hover {\n",
              "    background-color: var(--disabled-bg-color);\n",
              "    fill: var(--disabled-fill-color);\n",
              "    box-shadow: none;\n",
              "  }\n",
              "\n",
              "  .colab-df-spinner {\n",
              "    border: 2px solid var(--fill-color);\n",
              "    border-color: transparent;\n",
              "    border-bottom-color: var(--fill-color);\n",
              "    animation:\n",
              "      spin 1s steps(1) infinite;\n",
              "  }\n",
              "\n",
              "  @keyframes spin {\n",
              "    0% {\n",
              "      border-color: transparent;\n",
              "      border-bottom-color: var(--fill-color);\n",
              "      border-left-color: var(--fill-color);\n",
              "    }\n",
              "    20% {\n",
              "      border-color: transparent;\n",
              "      border-left-color: var(--fill-color);\n",
              "      border-top-color: var(--fill-color);\n",
              "    }\n",
              "    30% {\n",
              "      border-color: transparent;\n",
              "      border-left-color: var(--fill-color);\n",
              "      border-top-color: var(--fill-color);\n",
              "      border-right-color: var(--fill-color);\n",
              "    }\n",
              "    40% {\n",
              "      border-color: transparent;\n",
              "      border-right-color: var(--fill-color);\n",
              "      border-top-color: var(--fill-color);\n",
              "    }\n",
              "    60% {\n",
              "      border-color: transparent;\n",
              "      border-right-color: var(--fill-color);\n",
              "    }\n",
              "    80% {\n",
              "      border-color: transparent;\n",
              "      border-right-color: var(--fill-color);\n",
              "      border-bottom-color: var(--fill-color);\n",
              "    }\n",
              "    90% {\n",
              "      border-color: transparent;\n",
              "      border-bottom-color: var(--fill-color);\n",
              "    }\n",
              "  }\n",
              "</style>\n",
              "\n",
              "  <script>\n",
              "    async function quickchart(key) {\n",
              "      const quickchartButtonEl =\n",
              "        document.querySelector('#' + key + ' button');\n",
              "      quickchartButtonEl.disabled = true;  // To prevent multiple clicks.\n",
              "      quickchartButtonEl.classList.add('colab-df-spinner');\n",
              "      try {\n",
              "        const charts = await google.colab.kernel.invokeFunction(\n",
              "            'suggestCharts', [key], {});\n",
              "      } catch (error) {\n",
              "        console.error('Error during call to suggestCharts:', error);\n",
              "      }\n",
              "      quickchartButtonEl.classList.remove('colab-df-spinner');\n",
              "      quickchartButtonEl.classList.add('colab-df-quickchart-complete');\n",
              "    }\n",
              "    (() => {\n",
              "      let quickchartButtonEl =\n",
              "        document.querySelector('#df-4ace74b5-8381-42eb-acc7-d7d4569f59fd button');\n",
              "      quickchartButtonEl.style.display =\n",
              "        google.colab.kernel.accessAllowed ? 'block' : 'none';\n",
              "    })();\n",
              "  </script>\n",
              "</div>\n",
              "\n",
              "    </div>\n",
              "  </div>\n"
            ]
          },
          "metadata": {},
          "execution_count": 112
        }
      ]
    },
    {
      "cell_type": "code",
      "source": [
        "Y_train = Y_train.values.reshape(1, -1)\n",
        "Y_train.shape"
      ],
      "metadata": {
        "colab": {
          "base_uri": "https://localhost:8080/"
        },
        "id": "PcIkIuXlD1L8",
        "outputId": "550aeebe-5891-4590-9c51-7567007e408f"
      },
      "execution_count": null,
      "outputs": [
        {
          "output_type": "execute_result",
          "data": {
            "text/plain": [
              "(1, 31715)"
            ]
          },
          "metadata": {},
          "execution_count": 113
        }
      ]
    },
    {
      "cell_type": "code",
      "source": [
        "Y_test = Y_test.values.reshape(1, -1)\n",
        "Y_test.shape"
      ],
      "metadata": {
        "colab": {
          "base_uri": "https://localhost:8080/"
        },
        "id": "MQmeS0uRD7do",
        "outputId": "41e91d63-8d4d-4af9-da11-eb44c36f9b6b"
      },
      "execution_count": null,
      "outputs": [
        {
          "output_type": "execute_result",
          "data": {
            "text/plain": [
              "(1, 7929)"
            ]
          },
          "metadata": {},
          "execution_count": 114
        }
      ]
    },
    {
      "cell_type": "markdown",
      "source": [
        "<h2><b><u>IMPLEMENTING NEURAL NETWORK FROM SCRATCH</u></b></h2>\n",
        "<h3>Now that we have prepared our data, we can start with making our NN.<br>\n",
        "First we'll make our own activation function. Since we are doing regression, ReLu will be the best choice.</h3>"
      ],
      "metadata": {
        "id": "aV4Cf7tj98h4"
      }
    },
    {
      "cell_type": "code",
      "source": [
        "def relu_af(Z):\n",
        "  A = np.maximum(0, Z)\n",
        "  return A"
      ],
      "metadata": {
        "id": "VxHgS-23zTDN"
      },
      "execution_count": null,
      "outputs": []
    },
    {
      "cell_type": "code",
      "source": [
        "# Verifying if the above code is correct or not\n",
        "\n",
        "Z = np.array([1,4,7,-100,47,-15.258,-45.2,14,2658])\n",
        "A = relu_af(Z)\n",
        "A"
      ],
      "metadata": {
        "colab": {
          "base_uri": "https://localhost:8080/"
        },
        "id": "ymiuq21ykrp4",
        "outputId": "300f636d-caad-4a08-e087-783e503b7b2c"
      },
      "execution_count": null,
      "outputs": [
        {
          "output_type": "execute_result",
          "data": {
            "text/plain": [
              "array([1.000e+00, 4.000e+00, 7.000e+00, 0.000e+00, 4.700e+01, 0.000e+00,\n",
              "       0.000e+00, 1.400e+01, 2.658e+03])"
            ]
          },
          "metadata": {},
          "execution_count": 116
        }
      ]
    },
    {
      "cell_type": "markdown",
      "source": [
        "<h3>Let's now initialize our model parameters <b>W</b> and <b>b</b>.</h3>"
      ],
      "metadata": {
        "id": "-P9K1fH5_9aV"
      }
    },
    {
      "cell_type": "code",
      "source": [
        "# num_nodes_in_layers is a list which contains the number of nodes in each layer.\n",
        "\n",
        "def initialize_parameters(num_nodes_in_layers):\n",
        "  L = len(num_nodes_in_layers)\n",
        "\n",
        "  # parameters is a dictionary from where we'll extract all our parameters W and b\n",
        "  parameters = {}\n",
        "\n",
        "  # Convention: W1 is the weight matrix of first hidden layer. b2 is the bias matrix of second hidden layer. Similarly for other layers.\n",
        "  for l in range(1,L):\n",
        "    parameters['W' + str(l)] = np.random.rand(num_nodes_in_layers[l], num_nodes_in_layers[l-1])*0.01\n",
        "    parameters['b' + str(l)] = np.zeros((num_nodes_in_layers[l], 1))\n",
        "\n",
        "  return parameters"
      ],
      "metadata": {
        "id": "RL_8Xz3y_Kiq"
      },
      "execution_count": null,
      "outputs": []
    },
    {
      "cell_type": "code",
      "source": [
        "# Verifying if the above code is correct or not\n",
        "\n",
        "par = initialize_parameters([5, 2,3,1,2])\n",
        "W1 = par['W1']\n",
        "b1 = par['b1']\n",
        "W2 = par['W2']\n",
        "b2 = par['b2']\n",
        "W3 = par['W3']\n",
        "b3 = par['b3']\n",
        "W4 = par['W4']\n",
        "b4 = par['b4']\n",
        "W3, b2"
      ],
      "metadata": {
        "colab": {
          "base_uri": "https://localhost:8080/"
        },
        "id": "TG8KMnDwcUP9",
        "outputId": "9cad9c8d-094b-439f-eccd-46279099ba46"
      },
      "execution_count": null,
      "outputs": [
        {
          "output_type": "execute_result",
          "data": {
            "text/plain": [
              "(array([[0.00111725, 0.00996564, 0.00795672]]),\n",
              " array([[0.],\n",
              "        [0.],\n",
              "        [0.]]))"
            ]
          },
          "metadata": {},
          "execution_count": 118
        }
      ]
    },
    {
      "cell_type": "markdown",
      "source": [
        "<h3><u>Cost function</u>: We'll use <b>Mean Squared Error (MSE)</b> as cost function for our regression analysis since its the most popular choice and it is <b>convex function</b>, that is, only has one minima <b>(global minima)</b> which we want since we are using Gradient Descent to calculate the values of our model parameters W and b.</h3>"
      ],
      "metadata": {
        "id": "yRIsxBtCtr21"
      }
    },
    {
      "cell_type": "code",
      "source": [
        "def mse(Y, y_pred):\n",
        "  cost = np.mean((Y-y_pred)**2)\n",
        "  return cost"
      ],
      "metadata": {
        "id": "Lkbfx_rWc5Xp"
      },
      "execution_count": null,
      "outputs": []
    },
    {
      "cell_type": "code",
      "source": [
        "# Verifying if the above code is correct or not\n",
        "\n",
        "Y_temp = np.array([1, 2,3,4,5,6]).reshape((6,1))\n",
        "y_pred_temp = np.array([2,1,4,5,5,7]).reshape((6,1))\n",
        "cost = mse(Y_temp,y_pred_temp)\n",
        "print(cost)"
      ],
      "metadata": {
        "colab": {
          "base_uri": "https://localhost:8080/"
        },
        "id": "YaJbLPS2utJP",
        "outputId": "a4015743-cb66-48b4-823e-c723deefadfd"
      },
      "execution_count": null,
      "outputs": [
        {
          "output_type": "stream",
          "name": "stdout",
          "text": [
            "0.8333333333333334\n"
          ]
        }
      ]
    },
    {
      "cell_type": "markdown",
      "source": [
        "<h3><u>Forward Propagation</u></h3>"
      ],
      "metadata": {
        "id": "CKSc6i1N2ngD"
      }
    },
    {
      "cell_type": "code",
      "source": [
        "def forward_prop(W, b, A_prev_layer):\n",
        "  Z = np.dot(W,A_prev_layer) + b\n",
        "  A = relu_af(Z)\n",
        "  return A, Z"
      ],
      "metadata": {
        "id": "R_S2RIdbvB_E"
      },
      "execution_count": null,
      "outputs": []
    },
    {
      "cell_type": "code",
      "source": [
        "# Verifying if the above code is correct or not\n",
        "\n",
        "W = np.array([[1,2,1,2,1],[0,1,0,1,0]])\n",
        "A_prev = np.array([[1,0,1],[1,0,1],[0,1,0],[0,1,0],[1,0,1]])\n",
        "b = np.array([[2],[3]])\n",
        "A, Z = forward_prop(W,b,A_prev)\n",
        "A"
      ],
      "metadata": {
        "colab": {
          "base_uri": "https://localhost:8080/"
        },
        "id": "wwpFKnhA3Zrr",
        "outputId": "0834e701-2c6d-4abf-ae54-cdf4f0e89df0"
      },
      "execution_count": null,
      "outputs": [
        {
          "output_type": "execute_result",
          "data": {
            "text/plain": [
              "array([[6, 5, 6],\n",
              "       [4, 4, 4]])"
            ]
          },
          "metadata": {},
          "execution_count": 122
        }
      ]
    },
    {
      "cell_type": "markdown",
      "source": [
        "<h3><u>Backward Propagation</u></h3>"
      ],
      "metadata": {
        "id": "IY7wnkJp8Mkj"
      }
    },
    {
      "cell_type": "code",
      "source": [
        "def backward_prop(dA, Z, A_prev, W):\n",
        "  dZ = np.multiply(dA, relu_af(Z))\n",
        "  m = dZ.shape[1]\n",
        "  dW = (1/m)*(np.dot(dZ, A_prev.T))\n",
        "  db = (1/m)*(np.sum(dZ, axis = 1, keepdims = True))\n",
        "  dA_prev = np.dot(W.T, dZ)\n",
        "  return dA_prev, dW, db"
      ],
      "metadata": {
        "id": "fQoAIHNM30EL"
      },
      "execution_count": null,
      "outputs": []
    },
    {
      "cell_type": "code",
      "source": [
        "# Verifying if the above code is correct or not\n",
        "\n",
        "dA = np.array([[1,1,1],[0,0,0]])\n",
        "Z = np.array([[1,1,1],[0,0,0]])\n",
        "A_prev = np.array([[1,1,1],[0,0,0], [1,1,1]])\n",
        "W = np.array([[1,1,1],[0,0,0]])\n",
        "dA_prev, dW, db = backward_prop(dA, Z, A_prev, W)\n",
        "dW"
      ],
      "metadata": {
        "colab": {
          "base_uri": "https://localhost:8080/"
        },
        "id": "JCF5_fEA-rPf",
        "outputId": "4bbb8741-b703-4cee-a207-dc7b322f0424"
      },
      "execution_count": null,
      "outputs": [
        {
          "output_type": "execute_result",
          "data": {
            "text/plain": [
              "array([[1., 0., 1.],\n",
              "       [0., 0., 0.]])"
            ]
          },
          "metadata": {},
          "execution_count": 124
        }
      ]
    },
    {
      "cell_type": "markdown",
      "source": [
        "<h3><u>Updating the parameters <b>W</b> and <b>b</b></u></h3>"
      ],
      "metadata": {
        "id": "Np6EQcs0CssH"
      }
    },
    {
      "cell_type": "code",
      "source": [
        "def update_parameters(parameters, grads, L, learning_rate):\n",
        "  for l in range(1, L):\n",
        "    parameters[\"W\" + str(l)] -= learning_rate*grads[\"dW\" + str(l)]\n",
        "    parameters[\"b\" + str(l)] -= learning_rate*grads[\"db\" + str(l)]\n",
        "    return parameters"
      ],
      "metadata": {
        "id": "Vy0J1_7nC4Dr"
      },
      "execution_count": null,
      "outputs": []
    },
    {
      "cell_type": "markdown",
      "source": [
        "<h3>Now we are ready to create our model.</h3>"
      ],
      "metadata": {
        "id": "D7OGYo0XDBWE"
      }
    },
    {
      "cell_type": "code",
      "source": [
        "def model(X, Y, learning_rate, epochs, num_nodes_in_layers, optimization = \"normal\"):\n",
        "\n",
        "  parameters = initialize_parameters(num_nodes_in_layers)\n",
        "  check_par = []\n",
        "\n",
        "  L = len(num_nodes_in_layers)\n",
        "\n",
        "  J = []\n",
        "  caches = []\n",
        "  grads = {}\n",
        "\n",
        "  for epoch in range(epochs):\n",
        "    A_prev = X\n",
        "    for l in range(1,L):\n",
        "      W_l = parameters[\"W\" + str(l)]\n",
        "      b_l = parameters[\"b\" + str(l)]\n",
        "      A, Z = forward_prop(W_l, b_l, A_prev)\n",
        "      caches.append((A_prev, W_l, Z))\n",
        "      A_prev = A\n",
        "    cost = mse(Y, A)\n",
        "    if epoch%1 == 0:\n",
        "      J.append(cost)\n",
        "    dA = -2 * (Y - A)\n",
        "    for l in reversed(range(1,L)):\n",
        "      A_prev, W_l, Z = caches[l-1]\n",
        "      dA_prev, dW, db = backward_prop(dA, Z, A_prev, W_l)\n",
        "      \"\"\"\n",
        "      print(\"Layer\", l)\n",
        "      print(\"Z = \", Z)\n",
        "      print(\"A_prev = \", A_prev)\n",
        "      print(\"dA = \", dA)\n",
        "      print(\"A = \", relu_af(Z))\n",
        "      print(\"dW = \", dW)\n",
        "      print(\"db = \", db)\n",
        "      print()\n",
        "      \"\"\"\n",
        "      dA = dA_prev\n",
        "      #print(\"Befor W = \", parameters[\"W\" + str(l)])\n",
        "      parameters[\"W\" + str(l)] -= learning_rate*dW\n",
        "      #print(\"After W = \", parameters[\"W\" + str(l)])\n",
        "      parameters[\"b\" + str(l)] -= learning_rate*db\n",
        "\n",
        "\n",
        "    if optimization == \"normal\":\n",
        "      pass\n",
        "    #check_par.append(parameters)\n",
        "  return parameters, J"
      ],
      "metadata": {
        "id": "x4Ny2GlTCYo-"
      },
      "execution_count": null,
      "outputs": []
    },
    {
      "cell_type": "code",
      "source": [
        "def model2(X, Y, learning_rate, epochs, num_nodes_in_layers, batch_size, optimization = \"normal\"):\n",
        "\n",
        "  parameters = initialize_parameters(num_nodes_in_layers)\n",
        "  check_par = []\n",
        "\n",
        "  L = len(num_nodes_in_layers)\n",
        "  m = X.shape[1]\n",
        "  J = []\n",
        "  caches = []\n",
        "  grads = {}\n",
        "\n",
        "  for epoch in range(epochs):\n",
        "    permutation = np.random.permutation(m)\n",
        "    X_shuffled = X[:, permutation]\n",
        "    Y_shuffled = Y[:, permutation]\n",
        "    for i in range(0, m, batch_size):\n",
        "      X_mini_batch = X_shuffled[:, i:i+batch_size]\n",
        "      Y_mini_batch = Y_shuffled[:, i:i+batch_size]\n",
        "      A_prev = X_mini_batch\n",
        "      for l in range(1,L):\n",
        "        W_l = parameters[\"W\" + str(l)]\n",
        "        b_l = parameters[\"b\" + str(l)]\n",
        "        A, Z = forward_prop(W_l, b_l, A_prev)\n",
        "        caches.append((A_prev, W_l, Z))\n",
        "        A_prev = A\n",
        "      cost = mse(Y_mini_batch, A)\n",
        "      if epoch%1 == 0:\n",
        "        J.append(cost)\n",
        "      dA = -2 * (Y_mini_batch - A)\n",
        "      for l in reversed(range(1,L)):\n",
        "        A_prev, W_l, Z = caches[l-1]\n",
        "        dA_prev, dW, db = backward_prop(dA, Z, A_prev, W_l)\n",
        "        dA = dA_prev\n",
        "        #print(\"Befor W = \", parameters[\"W\" + str(l)])\n",
        "        parameters[\"W\" + str(l)] -= learning_rate*dW\n",
        "        #print(\"After W = \", parameters[\"W\" + str(l)])\n",
        "        parameters[\"b\" + str(l)] -= learning_rate*db\n",
        "\n",
        "\n",
        "    if optimization == \"normal\":\n",
        "      pass\n",
        "    #check_par.append(parameters)\n",
        "  return parameters, J"
      ],
      "metadata": {
        "id": "rM_EmwmpRv7p"
      },
      "execution_count": null,
      "outputs": []
    },
    {
      "cell_type": "code",
      "source": [
        "# Verifying if the above code is correct or not\n",
        "\n",
        "# m = 3\n",
        "num_nodes_temp = [2, 2, 3, 1] # L = 4\n",
        "X = np.array([[10,49,27],[1,0,159]])\n",
        "Y = np.array([289,34,97]).reshape((1,3))\n",
        "params_temp, J_fn_temp = model(X, Y, 0.01, 1, num_nodes_temp, \"normal\")\n",
        "params_temp"
      ],
      "metadata": {
        "id": "yahm2mv7A7ot",
        "colab": {
          "base_uri": "https://localhost:8080/"
        },
        "outputId": "ce084b43-9141-4e2f-9715-f96aeb52c2c7"
      },
      "execution_count": null,
      "outputs": [
        {
          "output_type": "execute_result",
          "data": {
            "text/plain": [
              "{'W1': array([[0.00166319, 0.00573891],\n",
              "        [0.0091362 , 0.00032754]]),\n",
              " 'b1': array([[3.75663449e-12],\n",
              "        [5.58952858e-13]]),\n",
              " 'W2': array([[0.0067651 , 0.00031171],\n",
              "        [0.00742601, 0.00618251],\n",
              "        [0.00614157, 0.00836015]]),\n",
              " 'b2': array([[3.70581014e-10],\n",
              "        [8.30582993e-11],\n",
              "        [1.46903320e-10]]),\n",
              " 'W3': array([[0.00286509, 0.00045707, 0.00085189]]),\n",
              " 'b3': array([[2.41712298e-05]])}"
            ]
          },
          "metadata": {},
          "execution_count": 128
        }
      ]
    },
    {
      "cell_type": "code",
      "source": [
        "num_nodes = []\n",
        "num_nodes.append(X_train.shape[0])\n",
        "list1 = [100, 50, 25, 10, 1]\n",
        "num_nodes += list1\n",
        "params, cost_J = model(X_train, Y_train, 0.1, 100, num_nodes, \"normal\")"
      ],
      "metadata": {
        "id": "zEmV0IGVHJVB"
      },
      "execution_count": null,
      "outputs": []
    },
    {
      "cell_type": "code",
      "source": [
        "cost_J"
      ],
      "metadata": {
        "colab": {
          "base_uri": "https://localhost:8080/"
        },
        "id": "PeNqHfOtmbVT",
        "outputId": "f6daf083-bbdd-4622-e99a-3c9eeaad7f18"
      },
      "execution_count": null,
      "outputs": [
        {
          "output_type": "execute_result",
          "data": {
            "text/plain": [
              "[150423708.1079554,\n",
              " 150423628.0188676,\n",
              " 150423547.93024823,\n",
              " 150423467.84209716,\n",
              " 150423387.75441447,\n",
              " 150423307.66720012,\n",
              " 150423227.58045408,\n",
              " 150423147.49417645,\n",
              " 150423067.40836713,\n",
              " 150422987.32302612,\n",
              " 150422907.23815346,\n",
              " 150422827.1537491,\n",
              " 150422747.06981313,\n",
              " 150422666.98634544,\n",
              " 150422586.90334606,\n",
              " 150422506.82081497,\n",
              " 150422426.73875222,\n",
              " 150422346.6571578,\n",
              " 150422266.57603166,\n",
              " 150422186.4953738,\n",
              " 150422106.41518426,\n",
              " 150422026.33546296,\n",
              " 150421946.25621,\n",
              " 150421866.1774253,\n",
              " 150421786.09910887,\n",
              " 150421706.0212607,\n",
              " 150421625.94388083,\n",
              " 150421545.8669693,\n",
              " 150421465.79052588,\n",
              " 150421385.7145508,\n",
              " 150421305.639044,\n",
              " 150421225.56400543,\n",
              " 150421145.4894351,\n",
              " 150421065.41533303,\n",
              " 150420985.3416992,\n",
              " 150420905.2685336,\n",
              " 150420825.19583625,\n",
              " 150420745.1236071,\n",
              " 150420665.05184618,\n",
              " 150420584.98055348,\n",
              " 150420504.90972903,\n",
              " 150420424.83937278,\n",
              " 150420344.76948476,\n",
              " 150420264.70006496,\n",
              " 150420184.63111335,\n",
              " 150420104.56262988,\n",
              " 150420024.49461466,\n",
              " 150419944.42706764,\n",
              " 150419864.3599888,\n",
              " 150419784.29337814,\n",
              " 150419704.22723567,\n",
              " 150419624.1615614,\n",
              " 150419544.09635526,\n",
              " 150419464.0316173,\n",
              " 150419383.96734753,\n",
              " 150419303.90354592,\n",
              " 150419223.84021246,\n",
              " 150419143.77734718,\n",
              " 150419063.71495005,\n",
              " 150418983.65302104,\n",
              " 150418903.59156016,\n",
              " 150418823.53056747,\n",
              " 150418743.47004288,\n",
              " 150418663.40998647,\n",
              " 150418583.35039815,\n",
              " 150418503.29127797,\n",
              " 150418423.2326259,\n",
              " 150418343.17444196,\n",
              " 150418263.11672616,\n",
              " 150418183.05947843,\n",
              " 150418103.0026988,\n",
              " 150418022.94638732,\n",
              " 150417942.89054394,\n",
              " 150417862.83516863,\n",
              " 150417782.78026143,\n",
              " 150417702.7258223,\n",
              " 150417622.67185125,\n",
              " 150417542.61834833,\n",
              " 150417462.56531346,\n",
              " 150417382.51274663,\n",
              " 150417302.46064794,\n",
              " 150417222.40901726,\n",
              " 150417142.35785463,\n",
              " 150417062.30716014,\n",
              " 150416982.25693363,\n",
              " 150416902.20717523,\n",
              " 150416822.15788487,\n",
              " 150416742.10906252,\n",
              " 150416662.06070822,\n",
              " 150416582.012822,\n",
              " 150416501.96540374,\n",
              " 150416421.91845357,\n",
              " 150416341.8719714,\n",
              " 150416261.82595727,\n",
              " 150416181.78041112,\n",
              " 150416101.73533306,\n",
              " 150416021.69072297,\n",
              " 150415941.64658085,\n",
              " 150415861.60290676,\n",
              " 150415781.5597007]"
            ]
          },
          "metadata": {},
          "execution_count": 130
        }
      ]
    },
    {
      "cell_type": "markdown",
      "source": [
        "<h3>Due to limited computing resources I could only run 100 iterations. But as you can see the cost function decreases as the number of iterations increases. This is a sign that our model is correctly implemented.  </h3>"
      ],
      "metadata": {
        "id": "anSvZqmMQrz0"
      }
    },
    {
      "cell_type": "code",
      "source": [
        "labels = np.arange(1, 101)\n",
        "plt.scatter(labels, cost_J)\n",
        "plt.ylabel(\"Cost function\")\n",
        "plt.xlabel(\"# of iterations\")\n",
        "plt.show()"
      ],
      "metadata": {
        "colab": {
          "base_uri": "https://localhost:8080/",
          "height": 465
        },
        "id": "ySAT1uK4m1eF",
        "outputId": "03ab8259-d704-4976-b276-491cf744f6be"
      },
      "execution_count": null,
      "outputs": [
        {
          "output_type": "display_data",
          "data": {
            "text/plain": [
              "<Figure size 640x480 with 1 Axes>"
            ],
            "image/png": "[encoded data removed]"
          },
          "metadata": {}
        }
      ]
    },
    {
      "cell_type": "markdown",
      "source": [
        "<h3>CLassification task</h3>"
      ],
      "metadata": {
        "id": "DKKKH_KYVfwQ"
      }
    },
    {
      "cell_type": "code",
      "source": [
        "import tensorflow as tf\n",
        "from tensorflow import keras"
      ],
      "metadata": {
        "id": "tvaNCU8uuOMK"
      },
      "execution_count": null,
      "outputs": []
    },
    {
      "cell_type": "code",
      "source": [
        "(x_train, y_train), (x_test, y_test) = keras.datasets.mnist.load_data()"
      ],
      "metadata": {
        "id": "8aWqpY97uTsY"
      },
      "execution_count": null,
      "outputs": []
    },
    {
      "cell_type": "code",
      "source": [
        "x_train.shape"
      ],
      "metadata": {
        "colab": {
          "base_uri": "https://localhost:8080/"
        },
        "id": "o8gnd8vhuXah",
        "outputId": "88a28810-1994-4f55-b5b8-57e551b39300"
      },
      "execution_count": null,
      "outputs": [
        {
          "output_type": "execute_result",
          "data": {
            "text/plain": [
              "(60000, 28, 28)"
            ]
          },
          "metadata": {},
          "execution_count": 134
        }
      ]
    },
    {
      "cell_type": "code",
      "source": [
        "plt.figure(figsize=(12, 4))\n",
        "plt.imshow(x_train[594], cmap='gray')\n",
        "plt.title(f\"Label: {y_train[594]}\")\n",
        "plt.axis('off')\n",
        "plt.show()"
      ],
      "metadata": {
        "colab": {
          "base_uri": "https://localhost:8080/",
          "height": 367
        },
        "id": "J3uw7_cHuaXi",
        "outputId": "c52a8a3f-4cea-4e10-b59e-7874897c1e5a"
      },
      "execution_count": null,
      "outputs": [
        {
          "output_type": "display_data",
          "data": {
            "text/plain": [
              "<Figure size 1200x400 with 1 Axes>"
            ],
            "image/png": "[encoded data removed]"
          },
          "metadata": {}
        }
      ]
    },
    {
      "cell_type": "code",
      "source": [
        "x_train = np.array(x_train).reshape((28*28, x_train.shape[0],))\n",
        "x_test = np.array(x_test).reshape((28*28, x_test.shape[0],))"
      ],
      "metadata": {
        "id": "bTgCJp-xVwij"
      },
      "execution_count": null,
      "outputs": []
    },
    {
      "cell_type": "code",
      "source": [
        "y_train = np.array(y_train).reshape((1, y_train.shape[0]))\n",
        "y_test = np.array(y_test).reshape((1, y_test.shape[0]))"
      ],
      "metadata": {
        "id": "s-yod44NW0rp"
      },
      "execution_count": null,
      "outputs": []
    },
    {
      "cell_type": "code",
      "source": [],
      "metadata": {
        "id": "zxWE1yIAvbGl"
      },
      "execution_count": null,
      "outputs": []
    }
  ]
}