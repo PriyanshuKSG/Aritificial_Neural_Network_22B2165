{
  "nbformat": 4,
  "nbformat_minor": 0,
  "metadata": {
    "colab": {
      "provenance": [],
      "authorship_tag": "ABX9TyMrQ7NRW/TfdN2OymTx3ZJr",
      "include_colab_link": true
    },
    "kernelspec": {
      "name": "python3",
      "display_name": "Python 3"
    },
    "language_info": {
      "name": "python"
    }
  },
  "cells": [
    {
      "cell_type": "markdown",
      "metadata": {
        "id": "view-in-github",
        "colab_type": "text"
      },
      "source": [
        "<a href=\"https://colab.research.google.com/github/PriyanshuKSG/Aritificial_Neural_Network_22B2165/blob/main/3_layer_ANN.ipynb\" target=\"_parent\"><img src=\"https://colab.research.google.com/assets/colab-badge.svg\" alt=\"Open In Colab\"/></a>"
      ]
    },
    {
      "cell_type": "code",
      "execution_count": null,
      "metadata": {
        "id": "UssnabJxbjDe"
      },
      "outputs": [],
      "source": [
        "import tensorflow as tf\n",
        "from tensorflow import keras\n",
        "from tensorflow.keras import layers\n",
        "from tensorflow.keras.datasets import mnist\n",
        "from matplotlib import pyplot as plt\n",
        "import numpy as np"
      ]
    },
    {
      "cell_type": "code",
      "source": [
        "(X_train, Y_train), (X_test, Y_test) = mnist.load_data()"
      ],
      "metadata": {
        "id": "C3z4L2e5cRVz"
      },
      "execution_count": null,
      "outputs": []
    },
    {
      "cell_type": "code",
      "source": [
        "X_train.shape, Y_train.shape"
      ],
      "metadata": {
        "colab": {
          "base_uri": "https://localhost:8080/"
        },
        "id": "k_lxVlFkdWVU",
        "outputId": "5e6dc8a5-e490-4599-870b-0acca88c22ff"
      },
      "execution_count": null,
      "outputs": [
        {
          "output_type": "execute_result",
          "data": {
            "text/plain": [
              "((60000, 28, 28), (60000,))"
            ]
          },
          "metadata": {},
          "execution_count": 154
        }
      ]
    },
    {
      "cell_type": "code",
      "source": [
        "plt.figure(figsize=(12, 4))\n",
        "plt.imshow(X_train[8574], cmap='gray')\n",
        "plt.title(f\"Label: {Y_train[8574]}\")\n",
        "plt.axis('off')\n",
        "plt.show()"
      ],
      "metadata": {
        "colab": {
          "base_uri": "https://localhost:8080/",
          "height": 367
        },
        "id": "Z17egTDRdZBl",
        "outputId": "b76e79a8-7815-4fc4-8a7a-24f24e709833"
      },
      "execution_count": null,
      "outputs": [
        {
          "output_type": "display_data",
          "data": {
            "text/plain": [
              "<Figure size 1200x400 with 1 Axes>"
            ],
            "image/png": "[encoded data removed]"
          },
          "metadata": {}
        }
      ]
    },
    {
      "cell_type": "code",
      "source": [
        "X_train = np.array(X_train).reshape((28*28, X_train.shape[0],)).astype(\"float32\")\n",
        "X_test = np.array(X_test).reshape((28*28, X_test.shape[0],)).astype(\"float32\")"
      ],
      "metadata": {
        "id": "o6cFOGt_d28E"
      },
      "execution_count": null,
      "outputs": []
    },
    {
      "cell_type": "code",
      "source": [
        "Y_train = np.array(Y_train).reshape((1, Y_train.shape[0]))\n",
        "Y_test = np.array(Y_test).reshape((1, Y_test.shape[0]))"
      ],
      "metadata": {
        "id": "elrCOTwrt1Qj"
      },
      "execution_count": null,
      "outputs": []
    },
    {
      "cell_type": "code",
      "source": [
        "X_train /= 255.0\n",
        "X_test /= 255.0"
      ],
      "metadata": {
        "id": "SnFTcuJ0uD1X"
      },
      "execution_count": null,
      "outputs": []
    },
    {
      "cell_type": "code",
      "source": [
        "X_train.shape"
      ],
      "metadata": {
        "colab": {
          "base_uri": "https://localhost:8080/"
        },
        "id": "NtXPPNhuuaeF",
        "outputId": "c9eb84ee-3235-443b-9f7c-5226ff34c6f4"
      },
      "execution_count": null,
      "outputs": [
        {
          "output_type": "execute_result",
          "data": {
            "text/plain": [
              "(784, 60000)"
            ]
          },
          "metadata": {},
          "execution_count": 159
        }
      ]
    },
    {
      "cell_type": "code",
      "source": [
        "m = X_train.shape[1]\n",
        "n_x = X_train.shape[0]"
      ],
      "metadata": {
        "id": "w4sgi29pvggm"
      },
      "execution_count": null,
      "outputs": []
    },
    {
      "cell_type": "code",
      "source": [
        "def initialize_parameters():\n",
        "  parameters = {}\n",
        "  parameters[\"W1\"] = np.random.rand(128,n_x)*0.01\n",
        "  parameters[\"b1\"] = np.zeros((128,1))\n",
        "  parameters[\"W2\"] = np.random.rand(64,128)*0.01\n",
        "  parameters[\"b2\"] = np.zeros((64,1))\n",
        "  parameters[\"W3\"] = np.random.rand(10,64)*0.01\n",
        "  parameters[\"b3\"] = np.zeros((10,1))\n",
        "  return parameters"
      ],
      "metadata": {
        "id": "BNwkXu2hv4fE"
      },
      "execution_count": null,
      "outputs": []
    },
    {
      "cell_type": "code",
      "source": [
        "# Verify\n",
        "\n",
        "params = initialize_parameters()\n",
        "params[\"W2\"]"
      ],
      "metadata": {
        "colab": {
          "base_uri": "https://localhost:8080/"
        },
        "id": "FrUns1KOyWUn",
        "outputId": "d5c3d66e-0447-423a-9be6-94571dd48cd1"
      },
      "execution_count": null,
      "outputs": [
        {
          "output_type": "execute_result",
          "data": {
            "text/plain": [
              "array([[0.00110344, 0.00654397, 0.00884498, ..., 0.00185495, 0.00087203,\n",
              "        0.00352218],\n",
              "       [0.00097243, 0.00390123, 0.00926972, ..., 0.00179608, 0.00659181,\n",
              "        0.00367647],\n",
              "       [0.00255474, 0.0022047 , 0.00321675, ..., 0.0002422 , 0.00512186,\n",
              "        0.00460403],\n",
              "       ...,\n",
              "       [0.00346157, 0.00567593, 0.00813591, ..., 0.00487243, 0.00123306,\n",
              "        0.00124169],\n",
              "       [0.002006  , 0.00068448, 0.00427507, ..., 0.00024424, 0.00457332,\n",
              "        0.00867172],\n",
              "       [0.00265451, 0.00884968, 0.00680844, ..., 0.00208914, 0.00388392,\n",
              "        0.00097531]])"
            ]
          },
          "metadata": {},
          "execution_count": 162
        }
      ]
    },
    {
      "cell_type": "code",
      "source": [
        "def ReLu_af(Z):\n",
        "  return np.maximum(0, Z)"
      ],
      "metadata": {
        "id": "SI7Nsc5jydPX"
      },
      "execution_count": null,
      "outputs": []
    },
    {
      "cell_type": "code",
      "source": [
        "# Verify\n",
        "\n",
        "print(params[\"W2\"])\n",
        "print(ReLu_af(params[\"W2\"]))"
      ],
      "metadata": {
        "colab": {
          "base_uri": "https://localhost:8080/"
        },
        "id": "z2I4KBc6y9wA",
        "outputId": "f9bb79b0-7899-4b43-ef1b-2d2469e2c0c8"
      },
      "execution_count": null,
      "outputs": [
        {
          "output_type": "stream",
          "name": "stdout",
          "text": [
            "[[0.00110344 0.00654397 0.00884498 ... 0.00185495 0.00087203 0.00352218]\n",
            " [0.00097243 0.00390123 0.00926972 ... 0.00179608 0.00659181 0.00367647]\n",
            " [0.00255474 0.0022047  0.00321675 ... 0.0002422  0.00512186 0.00460403]\n",
            " ...\n",
            " [0.00346157 0.00567593 0.00813591 ... 0.00487243 0.00123306 0.00124169]\n",
            " [0.002006   0.00068448 0.00427507 ... 0.00024424 0.00457332 0.00867172]\n",
            " [0.00265451 0.00884968 0.00680844 ... 0.00208914 0.00388392 0.00097531]]\n",
            "[[0.00110344 0.00654397 0.00884498 ... 0.00185495 0.00087203 0.00352218]\n",
            " [0.00097243 0.00390123 0.00926972 ... 0.00179608 0.00659181 0.00367647]\n",
            " [0.00255474 0.0022047  0.00321675 ... 0.0002422  0.00512186 0.00460403]\n",
            " ...\n",
            " [0.00346157 0.00567593 0.00813591 ... 0.00487243 0.00123306 0.00124169]\n",
            " [0.002006   0.00068448 0.00427507 ... 0.00024424 0.00457332 0.00867172]\n",
            " [0.00265451 0.00884968 0.00680844 ... 0.00208914 0.00388392 0.00097531]]\n"
          ]
        }
      ]
    },
    {
      "cell_type": "code",
      "source": [
        "def cost_fn(Y_pred, Y_true):\n",
        "  epsilon = 1e-15\n",
        "  Y_pred = np.clip(Y_pred, epsilon, 1 - epsilon)\n",
        "  J = -1*np.sum(Y_true*np.log(Y_pred))\n",
        "  J /= Y_pred.shape[1]\n",
        "  return J"
      ],
      "metadata": {
        "id": "Ewa6m08dzIr3"
      },
      "execution_count": null,
      "outputs": []
    },
    {
      "cell_type": "code",
      "source": [
        "# Verify\n",
        "\n",
        "Y_pred = np.array([[1,1,1],[1,1,1]])\n",
        "Y_true = np.array([[1,0,1],[0.5,1,1.6]])\n",
        "J = cost_fn(Y_pred, Y_true)\n",
        "J"
      ],
      "metadata": {
        "colab": {
          "base_uri": "https://localhost:8080/"
        },
        "id": "mxlTMZkK1CHl",
        "outputId": "e17ecade-89f8-4db5-c115-f8a036fbfdda"
      },
      "execution_count": null,
      "outputs": [
        {
          "output_type": "execute_result",
          "data": {
            "text/plain": [
              "1.6986412276764908e-15"
            ]
          },
          "metadata": {},
          "execution_count": 166
        }
      ]
    },
    {
      "cell_type": "code",
      "source": [
        "def Softmax(Z):\n",
        "    exp_Z = np.exp(Z - np.max(Z))\n",
        "    return exp_Z / exp_Z.sum(axis=0, keepdims=True)"
      ],
      "metadata": {
        "id": "juCjJCcu3dHM"
      },
      "execution_count": null,
      "outputs": []
    },
    {
      "cell_type": "code",
      "source": [
        "def forward_prop(parameters, X):\n",
        "  W1 = parameters[\"W1\"]\n",
        "  b1 = parameters[\"b1\"]\n",
        "  W2 = parameters[\"W2\"]\n",
        "  b2 = parameters[\"b2\"]\n",
        "  W3 = parameters[\"W3\"]\n",
        "  b3 = parameters[\"b3\"]\n",
        "\n",
        "  cache = {}\n",
        "\n",
        "  Z1 = np.dot(W1, X) + b1\n",
        "  A1 = ReLu_af(Z1)\n",
        "  Z2 = np.dot(W2, A1) + b2\n",
        "  A2 = ReLu_af(Z2)\n",
        "  Z3 = np.dot(W3, A2) + b3\n",
        "  A3 = Softmax(Z3)\n",
        "\n",
        "  cache[\"Z1\"] = Z1\n",
        "  cache[\"A1\"] = A1\n",
        "  cache[\"Z2\"] = Z2\n",
        "  cache[\"A2\"] = A2\n",
        "  cache[\"Z3\"] = Z3\n",
        "  cache[\"A3\"] = A3\n",
        "\n",
        "  return A3, cache"
      ],
      "metadata": {
        "id": "jOnEHC2x1ZZj"
      },
      "execution_count": null,
      "outputs": []
    },
    {
      "cell_type": "code",
      "source": [
        "# Verify\n",
        "\n",
        "x = np.array([[1, 2, 3], [4, -5, 9]])\n",
        "\n",
        "# Calculate softmax\n",
        "softmax_probs = Softmax(x)\n",
        "\n",
        "print(softmax_probs)"
      ],
      "metadata": {
        "colab": {
          "base_uri": "https://localhost:8080/"
        },
        "id": "czjm5ckM3Die",
        "outputId": "4fbcb839-494e-46ac-d7ff-1f1924dca0bb"
      },
      "execution_count": null,
      "outputs": [
        {
          "output_type": "stream",
          "name": "stdout",
          "text": [
            "[[4.74258732e-02 9.99088949e-01 2.47262316e-03]\n",
            " [9.52574127e-01 9.11051194e-04 9.97527377e-01]]\n"
          ]
        }
      ]
    },
    {
      "cell_type": "code",
      "source": [
        "def ReLu_derivative(Z):\n",
        "    return np.where(Z > 0, 1, 0)"
      ],
      "metadata": {
        "id": "CBmSrkWBDPJy"
      },
      "execution_count": null,
      "outputs": []
    },
    {
      "cell_type": "code",
      "source": [
        "def one_hot(Y):\n",
        "  one_hot_Y = np.zeros((Y.size, Y.max()+1))\n",
        "  one_hot_Y[np.arange(Y.size), Y] = 1\n",
        "  one_hot_Y = one_hot_Y.T\n",
        "  return one_hot_Y"
      ],
      "metadata": {
        "id": "FJ5JxH72PEFL"
      },
      "execution_count": null,
      "outputs": []
    },
    {
      "cell_type": "code",
      "source": [
        "def back_prop(parameters,cache, X, Y):\n",
        "\n",
        "  Y = one_hot(Y)\n",
        "\n",
        "  Z1 = cache[\"Z1\"]\n",
        "  A1 = cache[\"A1\"]\n",
        "  Z2 = cache[\"Z2\"]\n",
        "  A2 = cache[\"A2\"]\n",
        "  Z3 = cache[\"Z3\"]\n",
        "  A3 = cache[\"A3\"]\n",
        "\n",
        "  W1 = parameters[\"W1\"]\n",
        "  W2 = parameters[\"W2\"]\n",
        "  W3 = parameters[\"W3\"]\n",
        "\n",
        "  grads = {}\n",
        "\n",
        "  dZ3 = A3 - Y\n",
        "  dW3 = (1/Y.shape[1])*(np.dot(dZ3, A2.T))\n",
        "  db3 = (1/Y.shape[1])*(np.sum(dZ3, axis = 1, keepdims = True))\n",
        "\n",
        "  dA2 = np.dot(W3.T, dZ3)\n",
        "  dZ2 = dA2*ReLu_derivative(Z2)\n",
        "  dW2 = (1/Y.shape[1])*(np.dot(dZ2, A1.T))\n",
        "  db2 = (1/Y.shape[1])*(np.sum(dZ2, axis = 1, keepdims = True))\n",
        "\n",
        "  dA1 = np.dot(W2.T, dZ2)\n",
        "  dZ1 = dA1*ReLu_derivative(Z1)\n",
        "  dW1 = (1/Y.shape[1])*(np.dot(dZ1, X.T))\n",
        "  db1 = (1/Y.shape[1])*(np.sum(dZ1, axis = 1, keepdims = True))\n",
        "\n",
        "  grads[\"dW1\"] = dW1\n",
        "  grads[\"db1\"] = db1\n",
        "  grads[\"dW2\"] = dW2\n",
        "  grads[\"db2\"] = db2\n",
        "  grads[\"dW3\"] = dW3\n",
        "  grads[\"db3\"] = db3\n",
        "\n",
        "  return grads"
      ],
      "metadata": {
        "id": "k_kGxkTg4uDo"
      },
      "execution_count": null,
      "outputs": []
    },
    {
      "cell_type": "code",
      "source": [
        "def update_parameters(parameters, grads, lr):\n",
        "  parameters[\"W1\"] -= lr*grads[\"dW1\"]\n",
        "  parameters[\"b1\"] -= lr*grads[\"db1\"]\n",
        "  parameters[\"W2\"] -= lr*grads[\"dW2\"]\n",
        "  parameters[\"b2\"] -= lr*grads[\"db2\"]\n",
        "  parameters[\"W3\"] -= lr*grads[\"dW3\"]\n",
        "  parameters[\"b3\"] -= lr*grads[\"db3\"]\n",
        "\n",
        "  return parameters"
      ],
      "metadata": {
        "id": "bYrPDLzPHGJ0"
      },
      "execution_count": null,
      "outputs": []
    },
    {
      "cell_type": "code",
      "source": [
        "def gradient_descent(learning_rate, num_iterations, X, Y):\n",
        "\n",
        "  parameters = initialize_parameters()\n",
        "\n",
        "  J = []\n",
        "\n",
        "  for i in range(num_iterations):\n",
        "\n",
        "    Y_pred, cache = forward_prop(parameters, X)\n",
        "\n",
        "    cost = cost_fn(Y_pred, Y)\n",
        "    J.append(cost)\n",
        "\n",
        "    grads = back_prop(parameters, cache, X, Y)\n",
        "\n",
        "    #parameters = update_parameters(parameters, grads, learning_rate)\n",
        "\n",
        "    lr = learning_rate\n",
        "    parameters[\"W1\"] -= lr*grads[\"dW1\"]\n",
        "    parameters[\"b1\"] -= lr*grads[\"db1\"]\n",
        "    parameters[\"W2\"] -= lr*grads[\"dW2\"]\n",
        "    parameters[\"b2\"] -= lr*grads[\"db2\"]\n",
        "    parameters[\"W3\"] -= lr*grads[\"dW3\"]\n",
        "    parameters[\"b3\"] -= lr*grads[\"db3\"]\n",
        "\n",
        "  return parameters, J"
      ],
      "metadata": {
        "id": "89fWU9gxFqX8"
      },
      "execution_count": null,
      "outputs": []
    },
    {
      "cell_type": "code",
      "source": [
        "params_dict, J_fn = gradient_descent(0.001, 10, X_train, Y_train)"
      ],
      "metadata": {
        "id": "5ThahFx8IyDl"
      },
      "execution_count": null,
      "outputs": []
    },
    {
      "cell_type": "code",
      "source": [
        "J_fn"
      ],
      "metadata": {
        "colab": {
          "base_uri": "https://localhost:8080/"
        },
        "id": "WhYFxAH6JPFC",
        "outputId": "993b772e-48f1-416a-f140-933285dc6be1"
      },
      "execution_count": null,
      "outputs": [
        {
          "output_type": "execute_result",
          "data": {
            "text/plain": [
              "[102.55743185415201,\n",
              " 102.55743477112755,\n",
              " 102.55743775852903,\n",
              " 102.55744081618664,\n",
              " 102.55744394393109,\n",
              " 102.5574471415931,\n",
              " 102.55745040900376,\n",
              " 102.55745374599489,\n",
              " 102.55745715239794,\n",
              " 102.55746062804535]"
            ]
          },
          "metadata": {},
          "execution_count": 176
        }
      ]
    },
    {
      "cell_type": "code",
      "source": [],
      "metadata": {
        "id": "-Xawmxv1KA3E"
      },
      "execution_count": null,
      "outputs": []
    }
  ]
}